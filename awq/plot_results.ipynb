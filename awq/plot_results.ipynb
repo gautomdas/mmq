{
 "cells": [
  {
   "cell_type": "code",
   "execution_count": 1,
   "metadata": {},
   "outputs": [],
   "source": [
    "import numpy as np\n",
    "import pandas as pd\n",
    "import seaborn as sns\n",
    "import matplotlib.pyplot as plt\n",
    "import os\n",
    "\n",
    "import plotly.express as px"
   ]
  },
  {
   "cell_type": "markdown",
   "metadata": {},
   "source": [
    "## Image Text Retrieval"
   ]
  },
  {
   "cell_type": "code",
   "execution_count": 2,
   "metadata": {},
   "outputs": [],
   "source": [
    "uniform_results_path = '/fs/cfar-projects/low-bit-vision/uniform_results/image_text_retrieval/blip2_flickr_results.csv'\n",
    "df_uniform = pd.read_csv(uniform_results_path)\n",
    "df_uniform = df_uniform.dropna(axis = 1, how = 'all')\n",
    "\n",
    "# with pd.option_context('display.max_rows', 10):\n",
    "#     display(df_uniform)\n"
   ]
  },
  {
   "cell_type": "code",
   "execution_count": 26,
   "metadata": {},
   "outputs": [
    {
     "data": {
      "text/html": [
       "<div>\n",
       "<style scoped>\n",
       "    .dataframe tbody tr th:only-of-type {\n",
       "        vertical-align: middle;\n",
       "    }\n",
       "\n",
       "    .dataframe tbody tr th {\n",
       "        vertical-align: top;\n",
       "    }\n",
       "\n",
       "    .dataframe thead th {\n",
       "        text-align: right;\n",
       "    }\n",
       "</style>\n",
       "<table border=\"1\" class=\"dataframe\">\n",
       "  <thead>\n",
       "    <tr style=\"text-align: right;\">\n",
       "      <th></th>\n",
       "      <th>vit_bits</th>\n",
       "      <th>qformer_bits</th>\n",
       "      <th>txt_r1</th>\n",
       "      <th>txt_r5</th>\n",
       "      <th>txt_r10</th>\n",
       "      <th>txt_r_mean</th>\n",
       "      <th>img_r1</th>\n",
       "      <th>img_r5</th>\n",
       "      <th>img_r10</th>\n",
       "      <th>img_r_mean</th>\n",
       "      <th>r_mean</th>\n",
       "      <th>agg_metrics</th>\n",
       "      <th>model_size</th>\n",
       "    </tr>\n",
       "  </thead>\n",
       "  <tbody>\n",
       "    <tr>\n",
       "      <th>0</th>\n",
       "      <td>2</td>\n",
       "      <td>2</td>\n",
       "      <td>65.6</td>\n",
       "      <td>85.1</td>\n",
       "      <td>91.9</td>\n",
       "      <td>80.866667</td>\n",
       "      <td>55.66</td>\n",
       "      <td>78.76</td>\n",
       "      <td>85.30</td>\n",
       "      <td>73.240000</td>\n",
       "      <td>77.053333</td>\n",
       "      <td>80.866667</td>\n",
       "      <td>387.970088</td>\n",
       "    </tr>\n",
       "    <tr>\n",
       "      <th>1</th>\n",
       "      <td>2</td>\n",
       "      <td>3</td>\n",
       "      <td>78.4</td>\n",
       "      <td>93.3</td>\n",
       "      <td>96.6</td>\n",
       "      <td>89.433333</td>\n",
       "      <td>65.12</td>\n",
       "      <td>85.56</td>\n",
       "      <td>90.52</td>\n",
       "      <td>80.400000</td>\n",
       "      <td>84.916667</td>\n",
       "      <td>89.433333</td>\n",
       "      <td>408.189992</td>\n",
       "    </tr>\n",
       "    <tr>\n",
       "      <th>2</th>\n",
       "      <td>2</td>\n",
       "      <td>4</td>\n",
       "      <td>78.2</td>\n",
       "      <td>93.8</td>\n",
       "      <td>96.4</td>\n",
       "      <td>89.466667</td>\n",
       "      <td>64.74</td>\n",
       "      <td>84.86</td>\n",
       "      <td>89.72</td>\n",
       "      <td>79.773333</td>\n",
       "      <td>84.620000</td>\n",
       "      <td>89.466667</td>\n",
       "      <td>428.409896</td>\n",
       "    </tr>\n",
       "    <tr>\n",
       "      <th>3</th>\n",
       "      <td>2</td>\n",
       "      <td>5</td>\n",
       "      <td>79.1</td>\n",
       "      <td>93.1</td>\n",
       "      <td>95.9</td>\n",
       "      <td>89.366667</td>\n",
       "      <td>64.52</td>\n",
       "      <td>84.26</td>\n",
       "      <td>89.34</td>\n",
       "      <td>79.373333</td>\n",
       "      <td>84.370000</td>\n",
       "      <td>89.366667</td>\n",
       "      <td>448.629800</td>\n",
       "    </tr>\n",
       "    <tr>\n",
       "      <th>4</th>\n",
       "      <td>2</td>\n",
       "      <td>6</td>\n",
       "      <td>78.5</td>\n",
       "      <td>93.6</td>\n",
       "      <td>95.7</td>\n",
       "      <td>89.266667</td>\n",
       "      <td>64.40</td>\n",
       "      <td>84.32</td>\n",
       "      <td>89.40</td>\n",
       "      <td>79.373333</td>\n",
       "      <td>84.320000</td>\n",
       "      <td>89.266667</td>\n",
       "      <td>468.849704</td>\n",
       "    </tr>\n",
       "  </tbody>\n",
       "</table>\n",
       "</div>"
      ],
      "text/plain": [
       "   vit_bits  qformer_bits  txt_r1  txt_r5  txt_r10  txt_r_mean  img_r1  \\\n",
       "0         2             2    65.6    85.1     91.9   80.866667   55.66   \n",
       "1         2             3    78.4    93.3     96.6   89.433333   65.12   \n",
       "2         2             4    78.2    93.8     96.4   89.466667   64.74   \n",
       "3         2             5    79.1    93.1     95.9   89.366667   64.52   \n",
       "4         2             6    78.5    93.6     95.7   89.266667   64.40   \n",
       "\n",
       "   img_r5  img_r10  img_r_mean     r_mean  agg_metrics  model_size  \n",
       "0   78.76    85.30   73.240000  77.053333    80.866667  387.970088  \n",
       "1   85.56    90.52   80.400000  84.916667    89.433333  408.189992  \n",
       "2   84.86    89.72   79.773333  84.620000    89.466667  428.409896  \n",
       "3   84.26    89.34   79.373333  84.370000    89.366667  448.629800  \n",
       "4   84.32    89.40   79.373333  84.320000    89.266667  468.849704  "
      ]
     },
     "execution_count": 26,
     "metadata": {},
     "output_type": "execute_result"
    }
   ],
   "source": [
    "awq_results_path = '/fs/cfar-projects/low-bit-vision/awq_results/image_text_retrieval/awq_image_text_retrieval.csv'\n",
    "df_awq = pd.read_csv(awq_results_path)\n",
    "# bits --> megabytes\n",
    "df_awq['model_size'] = df_awq['model_size'] / 8e6\n",
    "\n",
    "# df_awq['vit_bits'] = df_awq['vit_bits'].astype(str)\n",
    "# df_awq['qformer_bits'] = df_awq['qformer_bits'].astype(str)\n",
    "\n",
    "df_awq[:5]"
   ]
  },
  {
   "cell_type": "code",
   "execution_count": 27,
   "metadata": {},
   "outputs": [
    {
     "data": {
      "text/plain": [
       "['vit_bits',\n",
       " 'qformer_bits',\n",
       " 'txt_r1',\n",
       " 'txt_r5',\n",
       " 'txt_r10',\n",
       " 'txt_r_mean',\n",
       " 'img_r1',\n",
       " 'img_r5',\n",
       " 'img_r10',\n",
       " 'img_r_mean',\n",
       " 'r_mean',\n",
       " 'agg_metrics',\n",
       " 'model_size']"
      ]
     },
     "execution_count": 27,
     "metadata": {},
     "output_type": "execute_result"
    }
   ],
   "source": [
    "list(df_awq.columns)"
   ]
  },
  {
   "cell_type": "code",
   "execution_count": 29,
   "metadata": {},
   "outputs": [
    {
     "data": {
      "application/vnd.plotly.v1+json": {
       "config": {
        "plotlyServerURL": "https://plot.ly"
       },
       "data": [
        {
         "customdata": [
          [
           2,
           2,
           85.1,
           91.9,
           80.86666666666666,
           78.76,
           85.3,
           73.24000000000001,
           77.05333333333334,
           80.86666666666666
          ],
          [
           3,
           2,
           98.4,
           99.4,
           95.40000000000002,
           93.26,
           96.28,
           89.05333333333333,
           92.22666666666667,
           95.40000000000002
          ],
          [
           4,
           2,
           98.8,
           99.5,
           95.9,
           94.32,
           96.56,
           90.1,
           93,
           95.9
          ],
          [
           5,
           2,
           98.8,
           99.4,
           96.13333333333333,
           94.5,
           97.04,
           90.37333333333332,
           93.25333333333332,
           96.13333333333333
          ],
          [
           6,
           2,
           98.9,
           99.4,
           96.1,
           94.5,
           97.14,
           90.42,
           93.26,
           96.1
          ],
          [
           8,
           2,
           98.8,
           99.4,
           95.73333333333336,
           94.12,
           96.54,
           89.73333333333335,
           92.73333333333336,
           95.73333333333336
          ],
          [
           16,
           2,
           98.8,
           99.4,
           95.56666666666668,
           94.1,
           96.54,
           89.72000000000001,
           92.64333333333336,
           95.56666666666668
          ]
         ],
         "hovertemplate": "qformer_bits=%{customdata[1]}<br>img_r1=%{x}<br>txt_r1=%{y}<br>model_size=%{z}<br>vit_bits=%{marker.color}<br>txt_r5=%{customdata[2]}<br>txt_r10=%{customdata[3]}<br>txt_r_mean=%{customdata[4]}<br>img_r5=%{customdata[5]}<br>img_r10=%{customdata[6]}<br>img_r_mean=%{customdata[7]}<br>r_mean=%{customdata[8]}<br>agg_metrics=%{customdata[9]}<extra></extra>",
         "legendgroup": "2",
         "marker": {
          "color": [
           2,
           3,
           4,
           5,
           6,
           8,
           16
          ],
          "coloraxis": "coloraxis",
          "size": 4.5,
          "symbol": "circle"
         },
         "mode": "markers",
         "name": "2",
         "scene": "scene",
         "showlegend": true,
         "type": "scatter3d",
         "x": [
          55.66,
          77.62,
          79.42,
          79.58,
          79.62,
          78.54,
          78.52
         ],
         "y": [
          65.6,
          88.4,
          89.4,
          90.2,
          90,
          89,
          88.5
         ],
         "z": [
          387.970088,
          511.03724,
          634.104392,
          757.171544,
          880.238696,
          1126.373,
          2110.910216
         ]
        },
        {
         "customdata": [
          [
           2,
           3,
           93.3,
           96.6,
           89.43333333333332,
           85.56,
           90.52,
           80.39999999999999,
           84.91666666666666,
           89.43333333333332
          ],
          [
           3,
           3,
           100,
           100,
           98.1,
           96.76,
           98.32,
           93.36,
           95.73,
           98.1
          ],
          [
           4,
           3,
           100,
           100,
           98.66666666666669,
           97.22,
           98.62,
           93.98,
           96.32333333333334,
           98.66666666666669
          ],
          [
           5,
           3,
           100,
           100,
           98.63333333333333,
           97.06,
           98.68,
           93.84666666666668,
           96.24,
           98.63333333333333
          ],
          [
           6,
           3,
           100,
           100,
           98.6,
           97.12,
           98.68,
           93.92,
           96.26,
           98.6
          ],
          [
           8,
           3,
           99.9,
           100,
           98.46666666666664,
           96.96,
           98.7,
           93.63333333333333,
           96.04999999999998,
           98.46666666666664
          ],
          [
           16,
           3,
           99.9,
           100,
           98.46666666666664,
           97.02,
           98.66,
           93.63333333333333,
           96.04999999999998,
           98.46666666666664
          ]
         ],
         "hovertemplate": "qformer_bits=%{customdata[1]}<br>img_r1=%{x}<br>txt_r1=%{y}<br>model_size=%{z}<br>vit_bits=%{marker.color}<br>txt_r5=%{customdata[2]}<br>txt_r10=%{customdata[3]}<br>txt_r_mean=%{customdata[4]}<br>img_r5=%{customdata[5]}<br>img_r10=%{customdata[6]}<br>img_r_mean=%{customdata[7]}<br>r_mean=%{customdata[8]}<br>agg_metrics=%{customdata[9]}<extra></extra>",
         "legendgroup": "3",
         "marker": {
          "color": [
           2,
           3,
           4,
           5,
           6,
           8,
           16
          ],
          "coloraxis": "coloraxis",
          "size": 4.5,
          "symbol": "diamond"
         },
         "mode": "markers",
         "name": "3",
         "scene": "scene",
         "showlegend": true,
         "type": "scatter3d",
         "x": [
          65.12,
          85,
          86.1,
          85.8,
          85.96,
          85.24,
          85.22
         ],
         "y": [
          78.4,
          94.3,
          96,
          95.9,
          95.8,
          95.5,
          95.5
         ],
         "z": [
          408.189992,
          531.257144,
          654.324296,
          777.391448,
          900.4586,
          1146.592904,
          2131.13012
         ]
        },
        {
         "customdata": [
          [
           2,
           4,
           93.8,
           96.4,
           89.46666666666665,
           84.86,
           89.72,
           79.77333333333333,
           84.61999999999999,
           89.46666666666665
          ],
          [
           3,
           4,
           100,
           100,
           97.83333333333331,
           96.68,
           98.16,
           93.33333333333331,
           95.58333333333331,
           97.83333333333331
          ],
          [
           4,
           4,
           99.9,
           100,
           98.53333333333336,
           97.2,
           98.54,
           94.10666666666668,
           96.32,
           98.53333333333336
          ],
          [
           5,
           4,
           99.9,
           100,
           98.56666666666666,
           97.22,
           98.52,
           94.00666666666666,
           96.28666666666666,
           98.56666666666666
          ],
          [
           6,
           4,
           99.9,
           100,
           98.6,
           97.26,
           98.5,
           94.02,
           96.31,
           98.6
          ],
          [
           8,
           4,
           99.7,
           100,
           98.13333333333333,
           97.08,
           98.64,
           93.92,
           96.02666666666669,
           98.13333333333333
          ],
          [
           16,
           4,
           99.7,
           100,
           98.1,
           97.06,
           98.62,
           93.91333333333334,
           96.00666666666667,
           98.1
          ]
         ],
         "hovertemplate": "qformer_bits=%{customdata[1]}<br>img_r1=%{x}<br>txt_r1=%{y}<br>model_size=%{z}<br>vit_bits=%{marker.color}<br>txt_r5=%{customdata[2]}<br>txt_r10=%{customdata[3]}<br>txt_r_mean=%{customdata[4]}<br>img_r5=%{customdata[5]}<br>img_r10=%{customdata[6]}<br>img_r_mean=%{customdata[7]}<br>r_mean=%{customdata[8]}<br>agg_metrics=%{customdata[9]}<extra></extra>",
         "legendgroup": "4",
         "marker": {
          "color": [
           2,
           3,
           4,
           5,
           6,
           8,
           16
          ],
          "coloraxis": "coloraxis",
          "size": 4.5,
          "symbol": "square"
         },
         "mode": "markers",
         "name": "4",
         "scene": "scene",
         "showlegend": true,
         "type": "scatter3d",
         "x": [
          64.74,
          85.16,
          86.58,
          86.28,
          86.3,
          86.04,
          86.06
         ],
         "y": [
          78.2,
          93.5,
          95.7,
          95.8,
          95.9,
          94.7,
          94.6
         ],
         "z": [
          428.409896,
          551.477048,
          674.5442,
          797.611352,
          920.678504,
          1166.812808,
          2151.350024
         ]
        },
        {
         "customdata": [
          [
           2,
           5,
           93.1,
           95.9,
           89.36666666666667,
           84.26,
           89.34,
           79.37333333333333,
           84.37,
           89.36666666666667
          ],
          [
           3,
           5,
           99.9,
           100,
           98,
           96.44,
           98.1,
           93.28000000000002,
           95.64,
           98
          ],
          [
           4,
           5,
           99.7,
           100,
           98.43333333333334,
           96.94,
           98.62,
           93.98,
           96.20666666666668,
           98.43333333333334
          ],
          [
           5,
           5,
           99.8,
           100,
           98.4,
           97.2,
           98.72,
           94.08,
           96.24,
           98.4
          ],
          [
           6,
           5,
           99.8,
           100,
           98.43333333333334,
           97.08,
           98.52,
           94.06,
           96.24666666666668,
           98.43333333333334
          ],
          [
           8,
           5,
           99.8,
           100,
           98.36666666666667,
           97,
           98.68,
           94.08,
           96.22333333333331,
           98.36666666666667
          ],
          [
           16,
           5,
           99.8,
           100,
           98.4,
           97.02,
           98.64,
           94.08,
           96.24,
           98.4
          ]
         ],
         "hovertemplate": "qformer_bits=%{customdata[1]}<br>img_r1=%{x}<br>txt_r1=%{y}<br>model_size=%{z}<br>vit_bits=%{marker.color}<br>txt_r5=%{customdata[2]}<br>txt_r10=%{customdata[3]}<br>txt_r_mean=%{customdata[4]}<br>img_r5=%{customdata[5]}<br>img_r10=%{customdata[6]}<br>img_r_mean=%{customdata[7]}<br>r_mean=%{customdata[8]}<br>agg_metrics=%{customdata[9]}<extra></extra>",
         "legendgroup": "5",
         "marker": {
          "color": [
           2,
           3,
           4,
           5,
           6,
           8,
           16
          ],
          "coloraxis": "coloraxis",
          "size": 4.5,
          "symbol": "x"
         },
         "mode": "markers",
         "name": "5",
         "scene": "scene",
         "showlegend": true,
         "type": "scatter3d",
         "x": [
          64.52,
          85.3,
          86.38,
          86.32,
          86.58,
          86.56,
          86.58
         ],
         "y": [
          79.1,
          94.1,
          95.6,
          95.4,
          95.5,
          95.3,
          95.4
         ],
         "z": [
          448.6298,
          571.696952,
          694.764104,
          817.831256,
          940.898408,
          1187.032712,
          2171.569928
         ]
        },
        {
         "customdata": [
          [
           2,
           6,
           93.6,
           95.7,
           89.26666666666667,
           84.32,
           89.4,
           79.37333333333333,
           84.32,
           89.26666666666667
          ],
          [
           3,
           6,
           99.9,
           99.9,
           97.86666666666667,
           96.6,
           98.1,
           93.35333333333332,
           95.61,
           97.86666666666667
          ],
          [
           4,
           6,
           99.8,
           99.9,
           98.3,
           97.08,
           98.54,
           94.08,
           96.19,
           98.3
          ],
          [
           5,
           6,
           99.8,
           100,
           98.23333333333332,
           97.22,
           98.6,
           94.06,
           96.14666666666666,
           98.23333333333332
          ],
          [
           6,
           6,
           99.9,
           100,
           98.4,
           97.12,
           98.58,
           94.12666666666668,
           96.26333333333332,
           98.4
          ],
          [
           8,
           6,
           99.8,
           100,
           98.33333333333331,
           97.1,
           98.6,
           94.02666666666666,
           96.18,
           98.33333333333331
          ],
          [
           16,
           6,
           99.8,
           100,
           98.26666666666668,
           97.02,
           98.64,
           94.05333333333331,
           96.16,
           98.26666666666668
          ]
         ],
         "hovertemplate": "qformer_bits=%{customdata[1]}<br>img_r1=%{x}<br>txt_r1=%{y}<br>model_size=%{z}<br>vit_bits=%{marker.color}<br>txt_r5=%{customdata[2]}<br>txt_r10=%{customdata[3]}<br>txt_r_mean=%{customdata[4]}<br>img_r5=%{customdata[5]}<br>img_r10=%{customdata[6]}<br>img_r_mean=%{customdata[7]}<br>r_mean=%{customdata[8]}<br>agg_metrics=%{customdata[9]}<extra></extra>",
         "legendgroup": "6",
         "marker": {
          "color": [
           2,
           3,
           4,
           5,
           6,
           8,
           16
          ],
          "coloraxis": "coloraxis",
          "size": 4.5,
          "symbol": "cross"
         },
         "mode": "markers",
         "name": "6",
         "scene": "scene",
         "showlegend": true,
         "type": "scatter3d",
         "x": [
          64.4,
          85.36,
          86.62,
          86.36,
          86.68,
          86.38,
          86.5
         ],
         "y": [
          78.5,
          93.8,
          95.2,
          94.9,
          95.3,
          95.2,
          95
         ],
         "z": [
          468.849704,
          591.916856,
          714.984008,
          838.05116,
          961.118312,
          1207.252616,
          2191.789832
         ]
        },
        {
         "customdata": [
          [
           2,
           8,
           93.3,
           96,
           89.39999999999999,
           84.32,
           89.32,
           79.22666666666667,
           84.31333333333333,
           89.39999999999999
          ],
          [
           3,
           8,
           99.9,
           99.9,
           97.93333333333334,
           96.52,
           98.06,
           93.29333333333334,
           95.61333333333334,
           97.93333333333334
          ],
          [
           4,
           8,
           99.7,
           99.9,
           98.33333333333331,
           97.1,
           98.52,
           94.06,
           96.19666666666666,
           98.33333333333331
          ],
          [
           5,
           8,
           99.8,
           100,
           98.4,
           97.16,
           98.62,
           94.02666666666666,
           96.21333333333332,
           98.4
          ],
          [
           6,
           8,
           99.9,
           100,
           98.46666666666664,
           97.16,
           98.56,
           94.1,
           96.28333333333332,
           98.46666666666664
          ],
          [
           8,
           8,
           99.8,
           100,
           98.33333333333331,
           97.1,
           98.62,
           94.06666666666666,
           96.2,
           98.33333333333331
          ],
          [
           16,
           8,
           99.8,
           100,
           98.3,
           97.1,
           98.66,
           94.04666666666668,
           96.17333333333332,
           98.3
          ]
         ],
         "hovertemplate": "qformer_bits=%{customdata[1]}<br>img_r1=%{x}<br>txt_r1=%{y}<br>model_size=%{z}<br>vit_bits=%{marker.color}<br>txt_r5=%{customdata[2]}<br>txt_r10=%{customdata[3]}<br>txt_r_mean=%{customdata[4]}<br>img_r5=%{customdata[5]}<br>img_r10=%{customdata[6]}<br>img_r_mean=%{customdata[7]}<br>r_mean=%{customdata[8]}<br>agg_metrics=%{customdata[9]}<extra></extra>",
         "legendgroup": "8",
         "marker": {
          "color": [
           2,
           3,
           4,
           5,
           6,
           8,
           16
          ],
          "coloraxis": "coloraxis",
          "size": 4.5,
          "symbol": "circle"
         },
         "mode": "markers",
         "name": "8",
         "scene": "scene",
         "showlegend": true,
         "type": "scatter3d",
         "x": [
          64.04,
          85.3,
          86.56,
          86.3,
          86.58,
          86.48,
          86.38
         ],
         "y": [
          78.9,
          94,
          95.4,
          95.4,
          95.5,
          95.2,
          95.1
         ],
         "z": [
          509.289512,
          632.356664,
          755.423816,
          878.490968,
          1001.55812,
          1247.692424,
          2232.22964
         ]
        },
        {
         "customdata": [
          [
           2,
           16,
           93.4,
           96,
           89.43333333333334,
           84.28,
           89.3,
           79.22666666666667,
           84.33000000000001,
           89.43333333333334
          ],
          [
           3,
           16,
           99.9,
           100,
           98,
           96.52,
           98.08,
           93.29333333333334,
           95.64666666666668,
           98
          ],
          [
           4,
           16,
           99.7,
           99.9,
           98.36666666666667,
           97.08,
           98.52,
           94.08,
           96.22333333333331,
           98.36666666666667
          ],
          [
           5,
           16,
           99.8,
           100,
           98.4,
           97.16,
           98.62,
           94.04666666666668,
           96.22333333333331,
           98.4
          ],
          [
           6,
           16,
           99.9,
           100,
           98.43333333333334,
           97.14,
           98.56,
           94.09333333333332,
           96.26333333333332,
           98.43333333333334
          ],
          [
           8,
           16,
           99.8,
           100,
           98.3,
           97.08,
           98.64,
           94.05333333333331,
           96.17666666666666,
           98.3
          ],
          [
           16,
           16,
           99.8,
           100,
           98.26666666666668,
           97.1,
           98.64,
           94.03333333333332,
           96.15,
           98.26666666666668
          ]
         ],
         "hovertemplate": "qformer_bits=%{customdata[1]}<br>img_r1=%{x}<br>txt_r1=%{y}<br>model_size=%{z}<br>vit_bits=%{marker.color}<br>txt_r5=%{customdata[2]}<br>txt_r10=%{customdata[3]}<br>txt_r_mean=%{customdata[4]}<br>img_r5=%{customdata[5]}<br>img_r10=%{customdata[6]}<br>img_r_mean=%{customdata[7]}<br>r_mean=%{customdata[8]}<br>agg_metrics=%{customdata[9]}<extra></extra>",
         "legendgroup": "16",
         "marker": {
          "color": [
           2,
           3,
           4,
           5,
           6,
           8,
           16
          ],
          "coloraxis": "coloraxis",
          "size": 4.5,
          "symbol": "diamond"
         },
         "mode": "markers",
         "name": "16",
         "scene": "scene",
         "showlegend": true,
         "type": "scatter3d",
         "x": [
          64.1,
          85.28,
          86.64,
          86.36,
          86.58,
          86.44,
          86.36
         ],
         "y": [
          78.9,
          94.1,
          95.5,
          95.4,
          95.4,
          95.1,
          95
         ],
         "z": [
          671.048744,
          794.115896,
          917.183048,
          1040.2502,
          1163.317352,
          1409.451656,
          2393.988872
         ]
        }
       ],
       "layout": {
        "coloraxis": {
         "colorbar": {
          "ticks": "outside",
          "title": {
           "text": "vit_bits"
          },
          "x": 0,
          "y": 1,
          "yanchor": "top"
         },
         "colorscale": [
          [
           0,
           "#0d0887"
          ],
          [
           0.1111111111111111,
           "#46039f"
          ],
          [
           0.2222222222222222,
           "#7201a8"
          ],
          [
           0.3333333333333333,
           "#9c179e"
          ],
          [
           0.4444444444444444,
           "#bd3786"
          ],
          [
           0.5555555555555556,
           "#d8576b"
          ],
          [
           0.6666666666666666,
           "#ed7953"
          ],
          [
           0.7777777777777778,
           "#fb9f3a"
          ],
          [
           0.8888888888888888,
           "#fdca26"
          ],
          [
           1,
           "#f0f921"
          ]
         ]
        },
        "legend": {
         "title": {
          "text": "qformer_bits"
         },
         "tracegroupgap": 0
        },
        "scene": {
         "domain": {
          "x": [
           0,
           1
          ],
          "y": [
           0,
           1
          ]
         },
         "xaxis": {
          "autorange": "reversed",
          "title": {
           "text": "Text-->Img R@1"
          }
         },
         "yaxis": {
          "autorange": "reversed",
          "title": {
           "text": "Img -->Text R@1"
          }
         },
         "zaxis": {
          "title": {
           "text": "Model Size (MB)"
          }
         }
        },
        "template": {
         "data": {
          "bar": [
           {
            "error_x": {
             "color": "#2a3f5f"
            },
            "error_y": {
             "color": "#2a3f5f"
            },
            "marker": {
             "line": {
              "color": "#E5ECF6",
              "width": 0.5
             },
             "pattern": {
              "fillmode": "overlay",
              "size": 10,
              "solidity": 0.2
             }
            },
            "type": "bar"
           }
          ],
          "barpolar": [
           {
            "marker": {
             "line": {
              "color": "#E5ECF6",
              "width": 0.5
             },
             "pattern": {
              "fillmode": "overlay",
              "size": 10,
              "solidity": 0.2
             }
            },
            "type": "barpolar"
           }
          ],
          "carpet": [
           {
            "aaxis": {
             "endlinecolor": "#2a3f5f",
             "gridcolor": "white",
             "linecolor": "white",
             "minorgridcolor": "white",
             "startlinecolor": "#2a3f5f"
            },
            "baxis": {
             "endlinecolor": "#2a3f5f",
             "gridcolor": "white",
             "linecolor": "white",
             "minorgridcolor": "white",
             "startlinecolor": "#2a3f5f"
            },
            "type": "carpet"
           }
          ],
          "choropleth": [
           {
            "colorbar": {
             "outlinewidth": 0,
             "ticks": ""
            },
            "type": "choropleth"
           }
          ],
          "contour": [
           {
            "colorbar": {
             "outlinewidth": 0,
             "ticks": ""
            },
            "colorscale": [
             [
              0,
              "#0d0887"
             ],
             [
              0.1111111111111111,
              "#46039f"
             ],
             [
              0.2222222222222222,
              "#7201a8"
             ],
             [
              0.3333333333333333,
              "#9c179e"
             ],
             [
              0.4444444444444444,
              "#bd3786"
             ],
             [
              0.5555555555555556,
              "#d8576b"
             ],
             [
              0.6666666666666666,
              "#ed7953"
             ],
             [
              0.7777777777777778,
              "#fb9f3a"
             ],
             [
              0.8888888888888888,
              "#fdca26"
             ],
             [
              1,
              "#f0f921"
             ]
            ],
            "type": "contour"
           }
          ],
          "contourcarpet": [
           {
            "colorbar": {
             "outlinewidth": 0,
             "ticks": ""
            },
            "type": "contourcarpet"
           }
          ],
          "heatmap": [
           {
            "colorbar": {
             "outlinewidth": 0,
             "ticks": ""
            },
            "colorscale": [
             [
              0,
              "#0d0887"
             ],
             [
              0.1111111111111111,
              "#46039f"
             ],
             [
              0.2222222222222222,
              "#7201a8"
             ],
             [
              0.3333333333333333,
              "#9c179e"
             ],
             [
              0.4444444444444444,
              "#bd3786"
             ],
             [
              0.5555555555555556,
              "#d8576b"
             ],
             [
              0.6666666666666666,
              "#ed7953"
             ],
             [
              0.7777777777777778,
              "#fb9f3a"
             ],
             [
              0.8888888888888888,
              "#fdca26"
             ],
             [
              1,
              "#f0f921"
             ]
            ],
            "type": "heatmap"
           }
          ],
          "heatmapgl": [
           {
            "colorbar": {
             "outlinewidth": 0,
             "ticks": ""
            },
            "colorscale": [
             [
              0,
              "#0d0887"
             ],
             [
              0.1111111111111111,
              "#46039f"
             ],
             [
              0.2222222222222222,
              "#7201a8"
             ],
             [
              0.3333333333333333,
              "#9c179e"
             ],
             [
              0.4444444444444444,
              "#bd3786"
             ],
             [
              0.5555555555555556,
              "#d8576b"
             ],
             [
              0.6666666666666666,
              "#ed7953"
             ],
             [
              0.7777777777777778,
              "#fb9f3a"
             ],
             [
              0.8888888888888888,
              "#fdca26"
             ],
             [
              1,
              "#f0f921"
             ]
            ],
            "type": "heatmapgl"
           }
          ],
          "histogram": [
           {
            "marker": {
             "pattern": {
              "fillmode": "overlay",
              "size": 10,
              "solidity": 0.2
             }
            },
            "type": "histogram"
           }
          ],
          "histogram2d": [
           {
            "colorbar": {
             "outlinewidth": 0,
             "ticks": ""
            },
            "colorscale": [
             [
              0,
              "#0d0887"
             ],
             [
              0.1111111111111111,
              "#46039f"
             ],
             [
              0.2222222222222222,
              "#7201a8"
             ],
             [
              0.3333333333333333,
              "#9c179e"
             ],
             [
              0.4444444444444444,
              "#bd3786"
             ],
             [
              0.5555555555555556,
              "#d8576b"
             ],
             [
              0.6666666666666666,
              "#ed7953"
             ],
             [
              0.7777777777777778,
              "#fb9f3a"
             ],
             [
              0.8888888888888888,
              "#fdca26"
             ],
             [
              1,
              "#f0f921"
             ]
            ],
            "type": "histogram2d"
           }
          ],
          "histogram2dcontour": [
           {
            "colorbar": {
             "outlinewidth": 0,
             "ticks": ""
            },
            "colorscale": [
             [
              0,
              "#0d0887"
             ],
             [
              0.1111111111111111,
              "#46039f"
             ],
             [
              0.2222222222222222,
              "#7201a8"
             ],
             [
              0.3333333333333333,
              "#9c179e"
             ],
             [
              0.4444444444444444,
              "#bd3786"
             ],
             [
              0.5555555555555556,
              "#d8576b"
             ],
             [
              0.6666666666666666,
              "#ed7953"
             ],
             [
              0.7777777777777778,
              "#fb9f3a"
             ],
             [
              0.8888888888888888,
              "#fdca26"
             ],
             [
              1,
              "#f0f921"
             ]
            ],
            "type": "histogram2dcontour"
           }
          ],
          "mesh3d": [
           {
            "colorbar": {
             "outlinewidth": 0,
             "ticks": ""
            },
            "type": "mesh3d"
           }
          ],
          "parcoords": [
           {
            "line": {
             "colorbar": {
              "outlinewidth": 0,
              "ticks": ""
             }
            },
            "type": "parcoords"
           }
          ],
          "pie": [
           {
            "automargin": true,
            "type": "pie"
           }
          ],
          "scatter": [
           {
            "fillpattern": {
             "fillmode": "overlay",
             "size": 10,
             "solidity": 0.2
            },
            "type": "scatter"
           }
          ],
          "scatter3d": [
           {
            "line": {
             "colorbar": {
              "outlinewidth": 0,
              "ticks": ""
             }
            },
            "marker": {
             "colorbar": {
              "outlinewidth": 0,
              "ticks": ""
             }
            },
            "type": "scatter3d"
           }
          ],
          "scattercarpet": [
           {
            "marker": {
             "colorbar": {
              "outlinewidth": 0,
              "ticks": ""
             }
            },
            "type": "scattercarpet"
           }
          ],
          "scattergeo": [
           {
            "marker": {
             "colorbar": {
              "outlinewidth": 0,
              "ticks": ""
             }
            },
            "type": "scattergeo"
           }
          ],
          "scattergl": [
           {
            "marker": {
             "colorbar": {
              "outlinewidth": 0,
              "ticks": ""
             }
            },
            "type": "scattergl"
           }
          ],
          "scattermapbox": [
           {
            "marker": {
             "colorbar": {
              "outlinewidth": 0,
              "ticks": ""
             }
            },
            "type": "scattermapbox"
           }
          ],
          "scatterpolar": [
           {
            "marker": {
             "colorbar": {
              "outlinewidth": 0,
              "ticks": ""
             }
            },
            "type": "scatterpolar"
           }
          ],
          "scatterpolargl": [
           {
            "marker": {
             "colorbar": {
              "outlinewidth": 0,
              "ticks": ""
             }
            },
            "type": "scatterpolargl"
           }
          ],
          "scatterternary": [
           {
            "marker": {
             "colorbar": {
              "outlinewidth": 0,
              "ticks": ""
             }
            },
            "type": "scatterternary"
           }
          ],
          "surface": [
           {
            "colorbar": {
             "outlinewidth": 0,
             "ticks": ""
            },
            "colorscale": [
             [
              0,
              "#0d0887"
             ],
             [
              0.1111111111111111,
              "#46039f"
             ],
             [
              0.2222222222222222,
              "#7201a8"
             ],
             [
              0.3333333333333333,
              "#9c179e"
             ],
             [
              0.4444444444444444,
              "#bd3786"
             ],
             [
              0.5555555555555556,
              "#d8576b"
             ],
             [
              0.6666666666666666,
              "#ed7953"
             ],
             [
              0.7777777777777778,
              "#fb9f3a"
             ],
             [
              0.8888888888888888,
              "#fdca26"
             ],
             [
              1,
              "#f0f921"
             ]
            ],
            "type": "surface"
           }
          ],
          "table": [
           {
            "cells": {
             "fill": {
              "color": "#EBF0F8"
             },
             "line": {
              "color": "white"
             }
            },
            "header": {
             "fill": {
              "color": "#C8D4E3"
             },
             "line": {
              "color": "white"
             }
            },
            "type": "table"
           }
          ]
         },
         "layout": {
          "annotationdefaults": {
           "arrowcolor": "#2a3f5f",
           "arrowhead": 0,
           "arrowwidth": 1
          },
          "autotypenumbers": "strict",
          "coloraxis": {
           "colorbar": {
            "outlinewidth": 0,
            "ticks": ""
           }
          },
          "colorscale": {
           "diverging": [
            [
             0,
             "#8e0152"
            ],
            [
             0.1,
             "#c51b7d"
            ],
            [
             0.2,
             "#de77ae"
            ],
            [
             0.3,
             "#f1b6da"
            ],
            [
             0.4,
             "#fde0ef"
            ],
            [
             0.5,
             "#f7f7f7"
            ],
            [
             0.6,
             "#e6f5d0"
            ],
            [
             0.7,
             "#b8e186"
            ],
            [
             0.8,
             "#7fbc41"
            ],
            [
             0.9,
             "#4d9221"
            ],
            [
             1,
             "#276419"
            ]
           ],
           "sequential": [
            [
             0,
             "#0d0887"
            ],
            [
             0.1111111111111111,
             "#46039f"
            ],
            [
             0.2222222222222222,
             "#7201a8"
            ],
            [
             0.3333333333333333,
             "#9c179e"
            ],
            [
             0.4444444444444444,
             "#bd3786"
            ],
            [
             0.5555555555555556,
             "#d8576b"
            ],
            [
             0.6666666666666666,
             "#ed7953"
            ],
            [
             0.7777777777777778,
             "#fb9f3a"
            ],
            [
             0.8888888888888888,
             "#fdca26"
            ],
            [
             1,
             "#f0f921"
            ]
           ],
           "sequentialminus": [
            [
             0,
             "#0d0887"
            ],
            [
             0.1111111111111111,
             "#46039f"
            ],
            [
             0.2222222222222222,
             "#7201a8"
            ],
            [
             0.3333333333333333,
             "#9c179e"
            ],
            [
             0.4444444444444444,
             "#bd3786"
            ],
            [
             0.5555555555555556,
             "#d8576b"
            ],
            [
             0.6666666666666666,
             "#ed7953"
            ],
            [
             0.7777777777777778,
             "#fb9f3a"
            ],
            [
             0.8888888888888888,
             "#fdca26"
            ],
            [
             1,
             "#f0f921"
            ]
           ]
          },
          "colorway": [
           "#636efa",
           "#EF553B",
           "#00cc96",
           "#ab63fa",
           "#FFA15A",
           "#19d3f3",
           "#FF6692",
           "#B6E880",
           "#FF97FF",
           "#FECB52"
          ],
          "font": {
           "color": "#2a3f5f"
          },
          "geo": {
           "bgcolor": "white",
           "lakecolor": "white",
           "landcolor": "#E5ECF6",
           "showlakes": true,
           "showland": true,
           "subunitcolor": "white"
          },
          "hoverlabel": {
           "align": "left"
          },
          "hovermode": "closest",
          "mapbox": {
           "style": "light"
          },
          "paper_bgcolor": "white",
          "plot_bgcolor": "#E5ECF6",
          "polar": {
           "angularaxis": {
            "gridcolor": "white",
            "linecolor": "white",
            "ticks": ""
           },
           "bgcolor": "#E5ECF6",
           "radialaxis": {
            "gridcolor": "white",
            "linecolor": "white",
            "ticks": ""
           }
          },
          "scene": {
           "xaxis": {
            "backgroundcolor": "#E5ECF6",
            "gridcolor": "white",
            "gridwidth": 2,
            "linecolor": "white",
            "showbackground": true,
            "ticks": "",
            "zerolinecolor": "white"
           },
           "yaxis": {
            "backgroundcolor": "#E5ECF6",
            "gridcolor": "white",
            "gridwidth": 2,
            "linecolor": "white",
            "showbackground": true,
            "ticks": "",
            "zerolinecolor": "white"
           },
           "zaxis": {
            "backgroundcolor": "#E5ECF6",
            "gridcolor": "white",
            "gridwidth": 2,
            "linecolor": "white",
            "showbackground": true,
            "ticks": "",
            "zerolinecolor": "white"
           }
          },
          "shapedefaults": {
           "line": {
            "color": "#2a3f5f"
           }
          },
          "ternary": {
           "aaxis": {
            "gridcolor": "white",
            "linecolor": "white",
            "ticks": ""
           },
           "baxis": {
            "gridcolor": "white",
            "linecolor": "white",
            "ticks": ""
           },
           "bgcolor": "#E5ECF6",
           "caxis": {
            "gridcolor": "white",
            "linecolor": "white",
            "ticks": ""
           }
          },
          "title": {
           "x": 0.05
          },
          "xaxis": {
           "automargin": true,
           "gridcolor": "white",
           "linecolor": "white",
           "ticks": "",
           "title": {
            "standoff": 15
           },
           "zerolinecolor": "white",
           "zerolinewidth": 2
          },
          "yaxis": {
           "automargin": true,
           "gridcolor": "white",
           "linecolor": "white",
           "ticks": "",
           "title": {
            "standoff": 15
           },
           "zerolinecolor": "white",
           "zerolinewidth": 2
          }
         }
        },
        "title": {
         "text": "AWQ Blip-2 Flickr30k Information Retrieval"
        }
       }
      },
      "text/html": [
       "<div>                            <div id=\"42e58b1f-c98a-49ee-a774-dd5be10235be\" class=\"plotly-graph-div\" style=\"height:525px; width:100%;\"></div>            <script type=\"text/javascript\">                require([\"plotly\"], function(Plotly) {                    window.PLOTLYENV=window.PLOTLYENV || {};                                    if (document.getElementById(\"42e58b1f-c98a-49ee-a774-dd5be10235be\")) {                    Plotly.newPlot(                        \"42e58b1f-c98a-49ee-a774-dd5be10235be\",                        [{\"customdata\":[[2.0,2.0,85.1,91.9,80.86666666666666,78.76,85.3,73.24000000000001,77.05333333333334,80.86666666666666],[3.0,2.0,98.4,99.4,95.40000000000002,93.26,96.28,89.05333333333333,92.22666666666667,95.40000000000002],[4.0,2.0,98.8,99.5,95.9,94.32,96.56,90.1,93.0,95.9],[5.0,2.0,98.8,99.4,96.13333333333333,94.5,97.04,90.37333333333332,93.25333333333332,96.13333333333333],[6.0,2.0,98.9,99.4,96.1,94.5,97.14,90.42,93.26,96.1],[8.0,2.0,98.8,99.4,95.73333333333336,94.12,96.54,89.73333333333335,92.73333333333336,95.73333333333336],[16.0,2.0,98.8,99.4,95.56666666666668,94.1,96.54,89.72000000000001,92.64333333333336,95.56666666666668]],\"hovertemplate\":\"qformer_bits=%{customdata[1]}\\u003cbr\\u003eimg_r1=%{x}\\u003cbr\\u003etxt_r1=%{y}\\u003cbr\\u003emodel_size=%{z}\\u003cbr\\u003evit_bits=%{marker.color}\\u003cbr\\u003etxt_r5=%{customdata[2]}\\u003cbr\\u003etxt_r10=%{customdata[3]}\\u003cbr\\u003etxt_r_mean=%{customdata[4]}\\u003cbr\\u003eimg_r5=%{customdata[5]}\\u003cbr\\u003eimg_r10=%{customdata[6]}\\u003cbr\\u003eimg_r_mean=%{customdata[7]}\\u003cbr\\u003er_mean=%{customdata[8]}\\u003cbr\\u003eagg_metrics=%{customdata[9]}\\u003cextra\\u003e\\u003c\\u002fextra\\u003e\",\"legendgroup\":\"2\",\"marker\":{\"color\":[2,3,4,5,6,8,16],\"coloraxis\":\"coloraxis\",\"symbol\":\"circle\",\"size\":4.5},\"mode\":\"markers\",\"name\":\"2\",\"scene\":\"scene\",\"showlegend\":true,\"x\":[55.66,77.62,79.42,79.58,79.62,78.54,78.52],\"y\":[65.6,88.4,89.4,90.2,90.0,89.0,88.5],\"z\":[387.970088,511.03724,634.104392,757.171544,880.238696,1126.373,2110.910216],\"type\":\"scatter3d\"},{\"customdata\":[[2.0,3.0,93.3,96.6,89.43333333333332,85.56,90.52,80.39999999999999,84.91666666666666,89.43333333333332],[3.0,3.0,100.0,100.0,98.1,96.76,98.32,93.36,95.73,98.1],[4.0,3.0,100.0,100.0,98.66666666666669,97.22,98.62,93.98,96.32333333333334,98.66666666666669],[5.0,3.0,100.0,100.0,98.63333333333333,97.06,98.68,93.84666666666668,96.24,98.63333333333333],[6.0,3.0,100.0,100.0,98.6,97.12,98.68,93.92,96.26,98.6],[8.0,3.0,99.9,100.0,98.46666666666664,96.96,98.7,93.63333333333333,96.04999999999998,98.46666666666664],[16.0,3.0,99.9,100.0,98.46666666666664,97.02,98.66,93.63333333333333,96.04999999999998,98.46666666666664]],\"hovertemplate\":\"qformer_bits=%{customdata[1]}\\u003cbr\\u003eimg_r1=%{x}\\u003cbr\\u003etxt_r1=%{y}\\u003cbr\\u003emodel_size=%{z}\\u003cbr\\u003evit_bits=%{marker.color}\\u003cbr\\u003etxt_r5=%{customdata[2]}\\u003cbr\\u003etxt_r10=%{customdata[3]}\\u003cbr\\u003etxt_r_mean=%{customdata[4]}\\u003cbr\\u003eimg_r5=%{customdata[5]}\\u003cbr\\u003eimg_r10=%{customdata[6]}\\u003cbr\\u003eimg_r_mean=%{customdata[7]}\\u003cbr\\u003er_mean=%{customdata[8]}\\u003cbr\\u003eagg_metrics=%{customdata[9]}\\u003cextra\\u003e\\u003c\\u002fextra\\u003e\",\"legendgroup\":\"3\",\"marker\":{\"color\":[2,3,4,5,6,8,16],\"coloraxis\":\"coloraxis\",\"symbol\":\"diamond\",\"size\":4.5},\"mode\":\"markers\",\"name\":\"3\",\"scene\":\"scene\",\"showlegend\":true,\"x\":[65.12,85.0,86.1,85.8,85.96,85.24,85.22],\"y\":[78.4,94.3,96.0,95.9,95.8,95.5,95.5],\"z\":[408.189992,531.257144,654.324296,777.391448,900.4586,1146.592904,2131.13012],\"type\":\"scatter3d\"},{\"customdata\":[[2.0,4.0,93.8,96.4,89.46666666666665,84.86,89.72,79.77333333333333,84.61999999999999,89.46666666666665],[3.0,4.0,100.0,100.0,97.83333333333331,96.68,98.16,93.33333333333331,95.58333333333331,97.83333333333331],[4.0,4.0,99.9,100.0,98.53333333333336,97.2,98.54,94.10666666666668,96.32,98.53333333333336],[5.0,4.0,99.9,100.0,98.56666666666666,97.22,98.52,94.00666666666666,96.28666666666666,98.56666666666666],[6.0,4.0,99.9,100.0,98.6,97.26,98.5,94.02,96.31,98.6],[8.0,4.0,99.7,100.0,98.13333333333333,97.08,98.64,93.92,96.02666666666669,98.13333333333333],[16.0,4.0,99.7,100.0,98.1,97.06,98.62,93.91333333333334,96.00666666666667,98.1]],\"hovertemplate\":\"qformer_bits=%{customdata[1]}\\u003cbr\\u003eimg_r1=%{x}\\u003cbr\\u003etxt_r1=%{y}\\u003cbr\\u003emodel_size=%{z}\\u003cbr\\u003evit_bits=%{marker.color}\\u003cbr\\u003etxt_r5=%{customdata[2]}\\u003cbr\\u003etxt_r10=%{customdata[3]}\\u003cbr\\u003etxt_r_mean=%{customdata[4]}\\u003cbr\\u003eimg_r5=%{customdata[5]}\\u003cbr\\u003eimg_r10=%{customdata[6]}\\u003cbr\\u003eimg_r_mean=%{customdata[7]}\\u003cbr\\u003er_mean=%{customdata[8]}\\u003cbr\\u003eagg_metrics=%{customdata[9]}\\u003cextra\\u003e\\u003c\\u002fextra\\u003e\",\"legendgroup\":\"4\",\"marker\":{\"color\":[2,3,4,5,6,8,16],\"coloraxis\":\"coloraxis\",\"symbol\":\"square\",\"size\":4.5},\"mode\":\"markers\",\"name\":\"4\",\"scene\":\"scene\",\"showlegend\":true,\"x\":[64.74,85.16,86.58,86.28,86.3,86.04,86.06],\"y\":[78.2,93.5,95.7,95.8,95.9,94.7,94.6],\"z\":[428.409896,551.477048,674.5442,797.611352,920.678504,1166.812808,2151.350024],\"type\":\"scatter3d\"},{\"customdata\":[[2.0,5.0,93.1,95.9,89.36666666666667,84.26,89.34,79.37333333333333,84.37,89.36666666666667],[3.0,5.0,99.9,100.0,98.0,96.44,98.1,93.28000000000002,95.64,98.0],[4.0,5.0,99.7,100.0,98.43333333333334,96.94,98.62,93.98,96.20666666666668,98.43333333333334],[5.0,5.0,99.8,100.0,98.4,97.2,98.72,94.08,96.24,98.4],[6.0,5.0,99.8,100.0,98.43333333333334,97.08,98.52,94.06,96.24666666666668,98.43333333333334],[8.0,5.0,99.8,100.0,98.36666666666667,97.0,98.68,94.08,96.22333333333331,98.36666666666667],[16.0,5.0,99.8,100.0,98.4,97.02,98.64,94.08,96.24,98.4]],\"hovertemplate\":\"qformer_bits=%{customdata[1]}\\u003cbr\\u003eimg_r1=%{x}\\u003cbr\\u003etxt_r1=%{y}\\u003cbr\\u003emodel_size=%{z}\\u003cbr\\u003evit_bits=%{marker.color}\\u003cbr\\u003etxt_r5=%{customdata[2]}\\u003cbr\\u003etxt_r10=%{customdata[3]}\\u003cbr\\u003etxt_r_mean=%{customdata[4]}\\u003cbr\\u003eimg_r5=%{customdata[5]}\\u003cbr\\u003eimg_r10=%{customdata[6]}\\u003cbr\\u003eimg_r_mean=%{customdata[7]}\\u003cbr\\u003er_mean=%{customdata[8]}\\u003cbr\\u003eagg_metrics=%{customdata[9]}\\u003cextra\\u003e\\u003c\\u002fextra\\u003e\",\"legendgroup\":\"5\",\"marker\":{\"color\":[2,3,4,5,6,8,16],\"coloraxis\":\"coloraxis\",\"symbol\":\"x\",\"size\":4.5},\"mode\":\"markers\",\"name\":\"5\",\"scene\":\"scene\",\"showlegend\":true,\"x\":[64.52,85.3,86.38,86.32,86.58,86.56,86.58],\"y\":[79.1,94.1,95.6,95.4,95.5,95.3,95.4],\"z\":[448.6298,571.696952,694.764104,817.831256,940.898408,1187.032712,2171.569928],\"type\":\"scatter3d\"},{\"customdata\":[[2.0,6.0,93.6,95.7,89.26666666666667,84.32,89.4,79.37333333333333,84.32,89.26666666666667],[3.0,6.0,99.9,99.9,97.86666666666667,96.6,98.1,93.35333333333332,95.61,97.86666666666667],[4.0,6.0,99.8,99.9,98.3,97.08,98.54,94.08,96.19,98.3],[5.0,6.0,99.8,100.0,98.23333333333332,97.22,98.6,94.06,96.14666666666666,98.23333333333332],[6.0,6.0,99.9,100.0,98.4,97.12,98.58,94.12666666666668,96.26333333333332,98.4],[8.0,6.0,99.8,100.0,98.33333333333331,97.1,98.6,94.02666666666666,96.18,98.33333333333331],[16.0,6.0,99.8,100.0,98.26666666666668,97.02,98.64,94.05333333333331,96.16,98.26666666666668]],\"hovertemplate\":\"qformer_bits=%{customdata[1]}\\u003cbr\\u003eimg_r1=%{x}\\u003cbr\\u003etxt_r1=%{y}\\u003cbr\\u003emodel_size=%{z}\\u003cbr\\u003evit_bits=%{marker.color}\\u003cbr\\u003etxt_r5=%{customdata[2]}\\u003cbr\\u003etxt_r10=%{customdata[3]}\\u003cbr\\u003etxt_r_mean=%{customdata[4]}\\u003cbr\\u003eimg_r5=%{customdata[5]}\\u003cbr\\u003eimg_r10=%{customdata[6]}\\u003cbr\\u003eimg_r_mean=%{customdata[7]}\\u003cbr\\u003er_mean=%{customdata[8]}\\u003cbr\\u003eagg_metrics=%{customdata[9]}\\u003cextra\\u003e\\u003c\\u002fextra\\u003e\",\"legendgroup\":\"6\",\"marker\":{\"color\":[2,3,4,5,6,8,16],\"coloraxis\":\"coloraxis\",\"symbol\":\"cross\",\"size\":4.5},\"mode\":\"markers\",\"name\":\"6\",\"scene\":\"scene\",\"showlegend\":true,\"x\":[64.4,85.36,86.62,86.36,86.68,86.38,86.5],\"y\":[78.5,93.8,95.2,94.9,95.3,95.2,95.0],\"z\":[468.849704,591.916856,714.984008,838.05116,961.118312,1207.252616,2191.789832],\"type\":\"scatter3d\"},{\"customdata\":[[2.0,8.0,93.3,96.0,89.39999999999999,84.32,89.32,79.22666666666667,84.31333333333333,89.39999999999999],[3.0,8.0,99.9,99.9,97.93333333333334,96.52,98.06,93.29333333333334,95.61333333333334,97.93333333333334],[4.0,8.0,99.7,99.9,98.33333333333331,97.1,98.52,94.06,96.19666666666666,98.33333333333331],[5.0,8.0,99.8,100.0,98.4,97.16,98.62,94.02666666666666,96.21333333333332,98.4],[6.0,8.0,99.9,100.0,98.46666666666664,97.16,98.56,94.1,96.28333333333332,98.46666666666664],[8.0,8.0,99.8,100.0,98.33333333333331,97.1,98.62,94.06666666666666,96.2,98.33333333333331],[16.0,8.0,99.8,100.0,98.3,97.1,98.66,94.04666666666668,96.17333333333332,98.3]],\"hovertemplate\":\"qformer_bits=%{customdata[1]}\\u003cbr\\u003eimg_r1=%{x}\\u003cbr\\u003etxt_r1=%{y}\\u003cbr\\u003emodel_size=%{z}\\u003cbr\\u003evit_bits=%{marker.color}\\u003cbr\\u003etxt_r5=%{customdata[2]}\\u003cbr\\u003etxt_r10=%{customdata[3]}\\u003cbr\\u003etxt_r_mean=%{customdata[4]}\\u003cbr\\u003eimg_r5=%{customdata[5]}\\u003cbr\\u003eimg_r10=%{customdata[6]}\\u003cbr\\u003eimg_r_mean=%{customdata[7]}\\u003cbr\\u003er_mean=%{customdata[8]}\\u003cbr\\u003eagg_metrics=%{customdata[9]}\\u003cextra\\u003e\\u003c\\u002fextra\\u003e\",\"legendgroup\":\"8\",\"marker\":{\"color\":[2,3,4,5,6,8,16],\"coloraxis\":\"coloraxis\",\"symbol\":\"circle\",\"size\":4.5},\"mode\":\"markers\",\"name\":\"8\",\"scene\":\"scene\",\"showlegend\":true,\"x\":[64.04,85.3,86.56,86.3,86.58,86.48,86.38],\"y\":[78.9,94.0,95.4,95.4,95.5,95.2,95.1],\"z\":[509.289512,632.356664,755.423816,878.490968,1001.55812,1247.692424,2232.22964],\"type\":\"scatter3d\"},{\"customdata\":[[2.0,16.0,93.4,96.0,89.43333333333334,84.28,89.3,79.22666666666667,84.33000000000001,89.43333333333334],[3.0,16.0,99.9,100.0,98.0,96.52,98.08,93.29333333333334,95.64666666666668,98.0],[4.0,16.0,99.7,99.9,98.36666666666667,97.08,98.52,94.08,96.22333333333331,98.36666666666667],[5.0,16.0,99.8,100.0,98.4,97.16,98.62,94.04666666666668,96.22333333333331,98.4],[6.0,16.0,99.9,100.0,98.43333333333334,97.14,98.56,94.09333333333332,96.26333333333332,98.43333333333334],[8.0,16.0,99.8,100.0,98.3,97.08,98.64,94.05333333333331,96.17666666666666,98.3],[16.0,16.0,99.8,100.0,98.26666666666668,97.1,98.64,94.03333333333332,96.15,98.26666666666668]],\"hovertemplate\":\"qformer_bits=%{customdata[1]}\\u003cbr\\u003eimg_r1=%{x}\\u003cbr\\u003etxt_r1=%{y}\\u003cbr\\u003emodel_size=%{z}\\u003cbr\\u003evit_bits=%{marker.color}\\u003cbr\\u003etxt_r5=%{customdata[2]}\\u003cbr\\u003etxt_r10=%{customdata[3]}\\u003cbr\\u003etxt_r_mean=%{customdata[4]}\\u003cbr\\u003eimg_r5=%{customdata[5]}\\u003cbr\\u003eimg_r10=%{customdata[6]}\\u003cbr\\u003eimg_r_mean=%{customdata[7]}\\u003cbr\\u003er_mean=%{customdata[8]}\\u003cbr\\u003eagg_metrics=%{customdata[9]}\\u003cextra\\u003e\\u003c\\u002fextra\\u003e\",\"legendgroup\":\"16\",\"marker\":{\"color\":[2,3,4,5,6,8,16],\"coloraxis\":\"coloraxis\",\"symbol\":\"diamond\",\"size\":4.5},\"mode\":\"markers\",\"name\":\"16\",\"scene\":\"scene\",\"showlegend\":true,\"x\":[64.1,85.28,86.64,86.36,86.58,86.44,86.36],\"y\":[78.9,94.1,95.5,95.4,95.4,95.1,95.0],\"z\":[671.048744,794.115896,917.183048,1040.2502,1163.317352,1409.451656,2393.988872],\"type\":\"scatter3d\"}],                        {\"template\":{\"data\":{\"histogram2dcontour\":[{\"type\":\"histogram2dcontour\",\"colorbar\":{\"outlinewidth\":0,\"ticks\":\"\"},\"colorscale\":[[0.0,\"#0d0887\"],[0.1111111111111111,\"#46039f\"],[0.2222222222222222,\"#7201a8\"],[0.3333333333333333,\"#9c179e\"],[0.4444444444444444,\"#bd3786\"],[0.5555555555555556,\"#d8576b\"],[0.6666666666666666,\"#ed7953\"],[0.7777777777777778,\"#fb9f3a\"],[0.8888888888888888,\"#fdca26\"],[1.0,\"#f0f921\"]]}],\"choropleth\":[{\"type\":\"choropleth\",\"colorbar\":{\"outlinewidth\":0,\"ticks\":\"\"}}],\"histogram2d\":[{\"type\":\"histogram2d\",\"colorbar\":{\"outlinewidth\":0,\"ticks\":\"\"},\"colorscale\":[[0.0,\"#0d0887\"],[0.1111111111111111,\"#46039f\"],[0.2222222222222222,\"#7201a8\"],[0.3333333333333333,\"#9c179e\"],[0.4444444444444444,\"#bd3786\"],[0.5555555555555556,\"#d8576b\"],[0.6666666666666666,\"#ed7953\"],[0.7777777777777778,\"#fb9f3a\"],[0.8888888888888888,\"#fdca26\"],[1.0,\"#f0f921\"]]}],\"heatmap\":[{\"type\":\"heatmap\",\"colorbar\":{\"outlinewidth\":0,\"ticks\":\"\"},\"colorscale\":[[0.0,\"#0d0887\"],[0.1111111111111111,\"#46039f\"],[0.2222222222222222,\"#7201a8\"],[0.3333333333333333,\"#9c179e\"],[0.4444444444444444,\"#bd3786\"],[0.5555555555555556,\"#d8576b\"],[0.6666666666666666,\"#ed7953\"],[0.7777777777777778,\"#fb9f3a\"],[0.8888888888888888,\"#fdca26\"],[1.0,\"#f0f921\"]]}],\"heatmapgl\":[{\"type\":\"heatmapgl\",\"colorbar\":{\"outlinewidth\":0,\"ticks\":\"\"},\"colorscale\":[[0.0,\"#0d0887\"],[0.1111111111111111,\"#46039f\"],[0.2222222222222222,\"#7201a8\"],[0.3333333333333333,\"#9c179e\"],[0.4444444444444444,\"#bd3786\"],[0.5555555555555556,\"#d8576b\"],[0.6666666666666666,\"#ed7953\"],[0.7777777777777778,\"#fb9f3a\"],[0.8888888888888888,\"#fdca26\"],[1.0,\"#f0f921\"]]}],\"contourcarpet\":[{\"type\":\"contourcarpet\",\"colorbar\":{\"outlinewidth\":0,\"ticks\":\"\"}}],\"contour\":[{\"type\":\"contour\",\"colorbar\":{\"outlinewidth\":0,\"ticks\":\"\"},\"colorscale\":[[0.0,\"#0d0887\"],[0.1111111111111111,\"#46039f\"],[0.2222222222222222,\"#7201a8\"],[0.3333333333333333,\"#9c179e\"],[0.4444444444444444,\"#bd3786\"],[0.5555555555555556,\"#d8576b\"],[0.6666666666666666,\"#ed7953\"],[0.7777777777777778,\"#fb9f3a\"],[0.8888888888888888,\"#fdca26\"],[1.0,\"#f0f921\"]]}],\"surface\":[{\"type\":\"surface\",\"colorbar\":{\"outlinewidth\":0,\"ticks\":\"\"},\"colorscale\":[[0.0,\"#0d0887\"],[0.1111111111111111,\"#46039f\"],[0.2222222222222222,\"#7201a8\"],[0.3333333333333333,\"#9c179e\"],[0.4444444444444444,\"#bd3786\"],[0.5555555555555556,\"#d8576b\"],[0.6666666666666666,\"#ed7953\"],[0.7777777777777778,\"#fb9f3a\"],[0.8888888888888888,\"#fdca26\"],[1.0,\"#f0f921\"]]}],\"mesh3d\":[{\"type\":\"mesh3d\",\"colorbar\":{\"outlinewidth\":0,\"ticks\":\"\"}}],\"scatter\":[{\"fillpattern\":{\"fillmode\":\"overlay\",\"size\":10,\"solidity\":0.2},\"type\":\"scatter\"}],\"parcoords\":[{\"type\":\"parcoords\",\"line\":{\"colorbar\":{\"outlinewidth\":0,\"ticks\":\"\"}}}],\"scatterpolargl\":[{\"type\":\"scatterpolargl\",\"marker\":{\"colorbar\":{\"outlinewidth\":0,\"ticks\":\"\"}}}],\"bar\":[{\"error_x\":{\"color\":\"#2a3f5f\"},\"error_y\":{\"color\":\"#2a3f5f\"},\"marker\":{\"line\":{\"color\":\"#E5ECF6\",\"width\":0.5},\"pattern\":{\"fillmode\":\"overlay\",\"size\":10,\"solidity\":0.2}},\"type\":\"bar\"}],\"scattergeo\":[{\"type\":\"scattergeo\",\"marker\":{\"colorbar\":{\"outlinewidth\":0,\"ticks\":\"\"}}}],\"scatterpolar\":[{\"type\":\"scatterpolar\",\"marker\":{\"colorbar\":{\"outlinewidth\":0,\"ticks\":\"\"}}}],\"histogram\":[{\"marker\":{\"pattern\":{\"fillmode\":\"overlay\",\"size\":10,\"solidity\":0.2}},\"type\":\"histogram\"}],\"scattergl\":[{\"type\":\"scattergl\",\"marker\":{\"colorbar\":{\"outlinewidth\":0,\"ticks\":\"\"}}}],\"scatter3d\":[{\"type\":\"scatter3d\",\"line\":{\"colorbar\":{\"outlinewidth\":0,\"ticks\":\"\"}},\"marker\":{\"colorbar\":{\"outlinewidth\":0,\"ticks\":\"\"}}}],\"scattermapbox\":[{\"type\":\"scattermapbox\",\"marker\":{\"colorbar\":{\"outlinewidth\":0,\"ticks\":\"\"}}}],\"scatterternary\":[{\"type\":\"scatterternary\",\"marker\":{\"colorbar\":{\"outlinewidth\":0,\"ticks\":\"\"}}}],\"scattercarpet\":[{\"type\":\"scattercarpet\",\"marker\":{\"colorbar\":{\"outlinewidth\":0,\"ticks\":\"\"}}}],\"carpet\":[{\"aaxis\":{\"endlinecolor\":\"#2a3f5f\",\"gridcolor\":\"white\",\"linecolor\":\"white\",\"minorgridcolor\":\"white\",\"startlinecolor\":\"#2a3f5f\"},\"baxis\":{\"endlinecolor\":\"#2a3f5f\",\"gridcolor\":\"white\",\"linecolor\":\"white\",\"minorgridcolor\":\"white\",\"startlinecolor\":\"#2a3f5f\"},\"type\":\"carpet\"}],\"table\":[{\"cells\":{\"fill\":{\"color\":\"#EBF0F8\"},\"line\":{\"color\":\"white\"}},\"header\":{\"fill\":{\"color\":\"#C8D4E3\"},\"line\":{\"color\":\"white\"}},\"type\":\"table\"}],\"barpolar\":[{\"marker\":{\"line\":{\"color\":\"#E5ECF6\",\"width\":0.5},\"pattern\":{\"fillmode\":\"overlay\",\"size\":10,\"solidity\":0.2}},\"type\":\"barpolar\"}],\"pie\":[{\"automargin\":true,\"type\":\"pie\"}]},\"layout\":{\"autotypenumbers\":\"strict\",\"colorway\":[\"#636efa\",\"#EF553B\",\"#00cc96\",\"#ab63fa\",\"#FFA15A\",\"#19d3f3\",\"#FF6692\",\"#B6E880\",\"#FF97FF\",\"#FECB52\"],\"font\":{\"color\":\"#2a3f5f\"},\"hovermode\":\"closest\",\"hoverlabel\":{\"align\":\"left\"},\"paper_bgcolor\":\"white\",\"plot_bgcolor\":\"#E5ECF6\",\"polar\":{\"bgcolor\":\"#E5ECF6\",\"angularaxis\":{\"gridcolor\":\"white\",\"linecolor\":\"white\",\"ticks\":\"\"},\"radialaxis\":{\"gridcolor\":\"white\",\"linecolor\":\"white\",\"ticks\":\"\"}},\"ternary\":{\"bgcolor\":\"#E5ECF6\",\"aaxis\":{\"gridcolor\":\"white\",\"linecolor\":\"white\",\"ticks\":\"\"},\"baxis\":{\"gridcolor\":\"white\",\"linecolor\":\"white\",\"ticks\":\"\"},\"caxis\":{\"gridcolor\":\"white\",\"linecolor\":\"white\",\"ticks\":\"\"}},\"coloraxis\":{\"colorbar\":{\"outlinewidth\":0,\"ticks\":\"\"}},\"colorscale\":{\"sequential\":[[0.0,\"#0d0887\"],[0.1111111111111111,\"#46039f\"],[0.2222222222222222,\"#7201a8\"],[0.3333333333333333,\"#9c179e\"],[0.4444444444444444,\"#bd3786\"],[0.5555555555555556,\"#d8576b\"],[0.6666666666666666,\"#ed7953\"],[0.7777777777777778,\"#fb9f3a\"],[0.8888888888888888,\"#fdca26\"],[1.0,\"#f0f921\"]],\"sequentialminus\":[[0.0,\"#0d0887\"],[0.1111111111111111,\"#46039f\"],[0.2222222222222222,\"#7201a8\"],[0.3333333333333333,\"#9c179e\"],[0.4444444444444444,\"#bd3786\"],[0.5555555555555556,\"#d8576b\"],[0.6666666666666666,\"#ed7953\"],[0.7777777777777778,\"#fb9f3a\"],[0.8888888888888888,\"#fdca26\"],[1.0,\"#f0f921\"]],\"diverging\":[[0,\"#8e0152\"],[0.1,\"#c51b7d\"],[0.2,\"#de77ae\"],[0.3,\"#f1b6da\"],[0.4,\"#fde0ef\"],[0.5,\"#f7f7f7\"],[0.6,\"#e6f5d0\"],[0.7,\"#b8e186\"],[0.8,\"#7fbc41\"],[0.9,\"#4d9221\"],[1,\"#276419\"]]},\"xaxis\":{\"gridcolor\":\"white\",\"linecolor\":\"white\",\"ticks\":\"\",\"title\":{\"standoff\":15},\"zerolinecolor\":\"white\",\"automargin\":true,\"zerolinewidth\":2},\"yaxis\":{\"gridcolor\":\"white\",\"linecolor\":\"white\",\"ticks\":\"\",\"title\":{\"standoff\":15},\"zerolinecolor\":\"white\",\"automargin\":true,\"zerolinewidth\":2},\"scene\":{\"xaxis\":{\"backgroundcolor\":\"#E5ECF6\",\"gridcolor\":\"white\",\"linecolor\":\"white\",\"showbackground\":true,\"ticks\":\"\",\"zerolinecolor\":\"white\",\"gridwidth\":2},\"yaxis\":{\"backgroundcolor\":\"#E5ECF6\",\"gridcolor\":\"white\",\"linecolor\":\"white\",\"showbackground\":true,\"ticks\":\"\",\"zerolinecolor\":\"white\",\"gridwidth\":2},\"zaxis\":{\"backgroundcolor\":\"#E5ECF6\",\"gridcolor\":\"white\",\"linecolor\":\"white\",\"showbackground\":true,\"ticks\":\"\",\"zerolinecolor\":\"white\",\"gridwidth\":2}},\"shapedefaults\":{\"line\":{\"color\":\"#2a3f5f\"}},\"annotationdefaults\":{\"arrowcolor\":\"#2a3f5f\",\"arrowhead\":0,\"arrowwidth\":1},\"geo\":{\"bgcolor\":\"white\",\"landcolor\":\"#E5ECF6\",\"subunitcolor\":\"white\",\"showland\":true,\"showlakes\":true,\"lakecolor\":\"white\"},\"title\":{\"x\":0.05},\"mapbox\":{\"style\":\"light\"}}},\"scene\":{\"domain\":{\"x\":[0.0,1.0],\"y\":[0.0,1.0]},\"xaxis\":{\"title\":{\"text\":\"Text--\\u003eImg R@1\"},\"autorange\":\"reversed\"},\"yaxis\":{\"title\":{\"text\":\"Img --\\u003eText R@1\"},\"autorange\":\"reversed\"},\"zaxis\":{\"title\":{\"text\":\"Model Size (MB)\"}}},\"coloraxis\":{\"colorbar\":{\"title\":{\"text\":\"vit_bits\"},\"yanchor\":\"top\",\"y\":1,\"x\":0,\"ticks\":\"outside\"},\"colorscale\":[[0.0,\"#0d0887\"],[0.1111111111111111,\"#46039f\"],[0.2222222222222222,\"#7201a8\"],[0.3333333333333333,\"#9c179e\"],[0.4444444444444444,\"#bd3786\"],[0.5555555555555556,\"#d8576b\"],[0.6666666666666666,\"#ed7953\"],[0.7777777777777778,\"#fb9f3a\"],[0.8888888888888888,\"#fdca26\"],[1.0,\"#f0f921\"]]},\"legend\":{\"title\":{\"text\":\"qformer_bits\"},\"tracegroupgap\":0},\"title\":{\"text\":\"AWQ Blip-2 Flickr30k Information Retrieval\"}},                        {\"responsive\": true}                    ).then(function(){\n",
       "                            \n",
       "var gd = document.getElementById('42e58b1f-c98a-49ee-a774-dd5be10235be');\n",
       "var x = new MutationObserver(function (mutations, observer) {{\n",
       "        var display = window.getComputedStyle(gd).display;\n",
       "        if (!display || display === 'none') {{\n",
       "            console.log([gd, 'removed!']);\n",
       "            Plotly.purge(gd);\n",
       "            observer.disconnect();\n",
       "        }}\n",
       "}});\n",
       "\n",
       "// Listen for the removal of the full notebook cells\n",
       "var notebookContainer = gd.closest('#notebook-container');\n",
       "if (notebookContainer) {{\n",
       "    x.observe(notebookContainer, {childList: true});\n",
       "}}\n",
       "\n",
       "// Listen for the clearing of the current output cell\n",
       "var outputEl = gd.closest('.output');\n",
       "if (outputEl) {{\n",
       "    x.observe(outputEl, {childList: true});\n",
       "}}\n",
       "\n",
       "                        })                };                });            </script>        </div>"
      ]
     },
     "metadata": {},
     "output_type": "display_data"
    }
   ],
   "source": [
    "fig = px.scatter_3d(df_awq, x='img_r1', y=\"txt_r1\", z = 'model_size',\n",
    "                    color = 'vit_bits',\n",
    "                    symbol = 'qformer_bits',\n",
    "                    hover_data = list(df_awq.columns),\n",
    "                    title = 'AWQ Blip-2 Flickr30k Information Retrieval',)\n",
    "\n",
    "\n",
    "fig.update_traces(marker=dict(size=4.5))\n",
    "\n",
    "fig.update_layout(scene = dict(\n",
    "                  xaxis_title='Text-->Img R@1',\n",
    "                  yaxis_title='Img -->Text R@1',\n",
    "                  zaxis_title='Model Size (MB)',\n",
    "                  \n",
    "                  xaxis = dict(autorange='reversed'),\n",
    "                  yaxis = dict(autorange='reversed')),)\n",
    "\n",
    "fig.update_layout(coloraxis_colorbar = dict(yanchor=\"top\", y=1, x=0,\n",
    "                                          ticks=\"outside\"))\n",
    "\n",
    "fig.write_html(\"awq_retrieval.html\")\n",
    "\n",
    "fig.show()"
   ]
  },
  {
   "cell_type": "code",
   "execution_count": null,
   "metadata": {},
   "outputs": [],
   "source": []
  }
 ],
 "metadata": {
  "kernelspec": {
   "display_name": "Python 3",
   "language": "python",
   "name": "python3"
  },
  "language_info": {
   "codemirror_mode": {
    "name": "ipython",
    "version": 3
   },
   "file_extension": ".py",
   "mimetype": "text/x-python",
   "name": "python",
   "nbconvert_exporter": "python",
   "pygments_lexer": "ipython3",
   "version": "3.10.14"
  }
 },
 "nbformat": 4,
 "nbformat_minor": 2
}
