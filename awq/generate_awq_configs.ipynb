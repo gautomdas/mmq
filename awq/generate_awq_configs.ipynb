{
 "cells": [
  {
   "cell_type": "markdown",
   "metadata": {},
   "source": [
    "## Generate AWQ Config Files"
   ]
  },
  {
   "cell_type": "code",
   "execution_count": 1,
   "metadata": {},
   "outputs": [],
   "source": [
    "import json\n",
    "import os\n",
    "import itertools"
   ]
  },
  {
   "cell_type": "code",
   "execution_count": 2,
   "metadata": {},
   "outputs": [],
   "source": [
    "dir_name = 'retrieval_configs'\n",
    "os.makedirs(f\"./{dir_name}\", exist_ok=True)"
   ]
  },
  {
   "cell_type": "code",
   "execution_count": 3,
   "metadata": {},
   "outputs": [],
   "source": [
    "model_part2modules = {\n",
    "    'self_attn' : ['self_attn', 'self_attn_output'],\n",
    "    'fc': ['fc1', 'fc2'],\n",
    "    'cross_attn': ['cross_attn', 'cross_attn_output'],\n",
    "    'img_ff' : ['intermediate_query', 'output_query'],\n",
    "    'txt_ff' : ['intermediate_txt', 'output_txt']\n",
    "}"
   ]
  },
  {
   "cell_type": "markdown",
   "metadata": {},
   "source": [
    "#### Info-retrieval Configs"
   ]
  },
  {
   "cell_type": "code",
   "execution_count": 4,
   "metadata": {},
   "outputs": [
    {
     "data": {
      "text/plain": [
       "49"
      ]
     },
     "execution_count": 4,
     "metadata": {},
     "output_type": "execute_result"
    }
   ],
   "source": [
    "bit_options = [2,3,4,5,6,8,16]\n",
    "\n",
    "vit_model_parts = ['self_attn', 'fc']\n",
    "\n",
    "# bit_widths = [bit_options for _ in range(len(vit_model_parts))] \n",
    "# vit_bits = list(itertools.product(*[bit_widths]))\n",
    "\n",
    "qformer_model_parts = ['self_attn', 'txt_ff', 'img_ff', 'cross_attn']\n",
    "# bit_widths = [bit_options for _ in range(len(qformer_model_parts))]\n",
    "# qformer_bits = list(itertools.product(*bit_widths))\n",
    "\n",
    "all_bits = list(itertools.product(*[bit_options, bit_options]))\n",
    "len(all_bits)"
   ]
  },
  {
   "cell_type": "code",
   "execution_count": 5,
   "metadata": {},
   "outputs": [],
   "source": [
    "for i,bits in enumerate(all_bits):\n",
    "\n",
    "    json_config = {}\n",
    "    json_config['vit_layers'] = {}\n",
    "    json_config['qformer_layers'] = {}\n",
    "\n",
    "    vit_bits, qformer_bits = bits\n",
    "\n",
    "    # ['self_attn', 'fc']\n",
    "    # for vit_model_part, bit_width in zip(vit_model_parts, vit_bits):\n",
    "    #     modules = model_part2modules[vit_model_part]\n",
    "    #     for mod in modules:\n",
    "    #         json_config['vit_layers'][mod] = bit_width\n",
    "\n",
    "    for vit_model_part in vit_model_parts:\n",
    "        modules = model_part2modules[vit_model_part]\n",
    "        for mod in modules:\n",
    "            json_config['vit_layers'][mod] = vit_bits\n",
    "\n",
    "\n",
    "    # ['self_attn', 'text_ff', 'img_ff', 'cross_attn']\n",
    "    # for qformer_model_part, bit_width in zip(qformer_model_parts, qformer_bits):\n",
    "    #     modules = model_part2modules[qformer_model_part]\n",
    "    #     for mod in modules:\n",
    "    #         json_config['qformer_layers'][mod] = bit_width\n",
    "\n",
    "    for qformer_model_part in qformer_model_parts:\n",
    "        modules = model_part2modules[qformer_model_part]\n",
    "        for mod in modules:\n",
    "            json_config['qformer_layers'][mod] = qformer_bits\n",
    "        \n",
    "    filename = os.path.join(dir_name, f'awq_{i}')\n",
    "    with open(filename, 'w') as f:\n",
    "        json.dump(json_config, f, indent=2)\n",
    "\n"
   ]
  },
  {
   "cell_type": "code",
   "execution_count": 6,
   "metadata": {},
   "outputs": [],
   "source": [
    "test_config = json.load(open('/nfshomes/vla/low_bit_vision/mmq/awq/retrieval_configs/awq_20'))"
   ]
  },
  {
   "cell_type": "code",
   "execution_count": 7,
   "metadata": {},
   "outputs": [
    {
     "data": {
      "text/plain": [
       "{'vit_layers': {'self_attn': 4, 'self_attn_output': 4, 'fc1': 4, 'fc2': 4},\n",
       " 'qformer_layers': {'self_attn': 16,\n",
       "  'self_attn_output': 16,\n",
       "  'intermediate_txt': 16,\n",
       "  'output_txt': 16,\n",
       "  'intermediate_query': 16,\n",
       "  'output_query': 16,\n",
       "  'cross_attn': 16,\n",
       "  'cross_attn_output': 16}}"
      ]
     },
     "execution_count": 7,
     "metadata": {},
     "output_type": "execute_result"
    }
   ],
   "source": [
    "test_config"
   ]
  },
  {
   "cell_type": "markdown",
   "metadata": {},
   "source": [
    "#### Caption Generation Configs"
   ]
  },
  {
   "cell_type": "code",
   "execution_count": 8,
   "metadata": {},
   "outputs": [],
   "source": [
    "dir_name = 'captioning_configs'\n",
    "os.makedirs(f\"./{dir_name}\", exist_ok=True)"
   ]
  },
  {
   "cell_type": "code",
   "execution_count": 10,
   "metadata": {},
   "outputs": [
    {
     "data": {
      "text/plain": [
       "343"
      ]
     },
     "execution_count": 10,
     "metadata": {},
     "output_type": "execute_result"
    }
   ],
   "source": [
    "bit_options = [2,3,4,5,6,8,16]\n",
    "\n",
    "vit_model_parts = ['self_attn', 'fc']\n",
    "\n",
    "# bit_widths = [bit_options for _ in range(len(vit_model_parts))] \n",
    "# vit_bits = list(itertools.product(*[bit_widths]))\n",
    "\n",
    "# NOTE: no text ff for caption generation\n",
    "qformer_model_parts = ['self_attn', 'img_ff', 'cross_attn']\n",
    "# bit_widths = [bit_options for _ in range(len(qformer_model_parts))]\n",
    "# qformer_bits = list(itertools.product(*bit_widths))\n",
    "\n",
    "llm_model_parts = ['self_attn', 'fc']\n",
    "\n",
    "all_bits = list(itertools.product(*[bit_options, bit_options, bit_options]))\n",
    "len(all_bits)"
   ]
  },
  {
   "cell_type": "code",
   "execution_count": 11,
   "metadata": {},
   "outputs": [],
   "source": [
    "for i,bits in enumerate(all_bits):\n",
    "\n",
    "    json_config = {}\n",
    "    json_config['vit_layers'] = {}\n",
    "    json_config['qformer_layers'] = {}\n",
    "    json_config['llm_layers'] = {}\n",
    "\n",
    "    vit_bits, qformer_bits, llm_bits = bits\n",
    "\n",
    "    for vit_model_part in vit_model_parts:\n",
    "        modules = model_part2modules[vit_model_part]\n",
    "        for mod in modules:\n",
    "            json_config['vit_layers'][mod] = vit_bits\n",
    "\n",
    "\n",
    "    # ['self_attn', 'text_ff', 'img_ff', 'cross_attn']\n",
    "    # for qformer_model_part, bit_width in zip(qformer_model_parts, qformer_bits):\n",
    "    #     modules = model_part2modules[qformer_model_part]\n",
    "    #     for mod in modules:\n",
    "    #         json_config['qformer_layers'][mod] = bit_width\n",
    "\n",
    "    for qformer_model_part in qformer_model_parts:\n",
    "        modules = model_part2modules[qformer_model_part]\n",
    "        for mod in modules:\n",
    "            json_config['qformer_layers'][mod] = qformer_bits\n",
    "\n",
    "    # ['self_attn', 'fc']\n",
    "    # for llm_model_part, bit_width in zip(llm_model_parts, llm_bits):\n",
    "    #     modules = model_part2modules[llm_model_part]\n",
    "    #     for mod in modules:\n",
    "    #         json_config['llm_layers'][mod] = bit_width\n",
    "\n",
    "    for llm_model_part in llm_model_parts:\n",
    "        modules = model_part2modules[llm_model_part]\n",
    "        for mod in modules:\n",
    "            json_config['llm_layers'][mod] = llm_bits\n",
    "        \n",
    "    filename = os.path.join(dir_name, f'awq_{i}')\n",
    "    with open(filename, 'w') as f:\n",
    "        json.dump(json_config, f, indent=2)\n",
    "\n"
   ]
  },
  {
   "cell_type": "code",
   "execution_count": 12,
   "metadata": {},
   "outputs": [],
   "source": [
    "test_config = json.load(open('/nfshomes/vla/low_bit_vision/mmq/awq/captioning_configs/awq_55'))"
   ]
  },
  {
   "cell_type": "code",
   "execution_count": 13,
   "metadata": {},
   "outputs": [
    {
     "data": {
      "text/plain": [
       "{'vit_layers': {'self_attn': 3, 'self_attn_output': 3, 'fc1': 3, 'fc2': 3},\n",
       " 'qformer_layers': {'self_attn': 2,\n",
       "  'self_attn_output': 2,\n",
       "  'intermediate_query': 2,\n",
       "  'output_query': 2,\n",
       "  'cross_attn': 2,\n",
       "  'cross_attn_output': 2},\n",
       " 'llm_layers': {'self_attn': 16, 'self_attn_output': 16, 'fc1': 16, 'fc2': 16}}"
      ]
     },
     "execution_count": 13,
     "metadata": {},
     "output_type": "execute_result"
    }
   ],
   "source": [
    "test_config"
   ]
  }
 ],
 "metadata": {
  "kernelspec": {
   "display_name": "Python 3",
   "language": "python",
   "name": "python3"
  },
  "language_info": {
   "codemirror_mode": {
    "name": "ipython",
    "version": 3
   },
   "file_extension": ".py",
   "mimetype": "text/x-python",
   "name": "python",
   "nbconvert_exporter": "python",
   "pygments_lexer": "ipython3",
   "version": "3.10.14"
  }
 },
 "nbformat": 4,
 "nbformat_minor": 2
}
