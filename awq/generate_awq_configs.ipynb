{
 "cells": [
  {
   "cell_type": "markdown",
   "metadata": {},
   "source": [
    "## Generate AWQ Config Files"
   ]
  },
  {
   "cell_type": "code",
   "execution_count": 3,
   "metadata": {},
   "outputs": [],
   "source": [
    "import json\n",
    "import os\n",
    "import itertools"
   ]
  },
  {
   "cell_type": "code",
   "execution_count": 54,
   "metadata": {},
   "outputs": [],
   "source": [
    "dir_name = 'retrieval_configs'\n",
    "os.makedirs(f\"./{dir_name}\", exist_ok=True)"
   ]
  },
  {
   "cell_type": "code",
   "execution_count": 12,
   "metadata": {},
   "outputs": [],
   "source": [
    "model_part2modules = {\n",
    "    'self_attn' : ['self_attn', 'self_attn_output'],\n",
    "    'fc': ['fc1', 'fc2'],\n",
    "    'cross_attn': ['cross_attn', 'cross_attn_output'],\n",
    "    'img_ff' : ['intermediate_query', 'output_query'],\n",
    "    'txt_ff' : ['intermediate_txt', 'output_txt']\n",
    "}"
   ]
  },
  {
   "cell_type": "markdown",
   "metadata": {},
   "source": [
    "#### Info-retrieval Configs"
   ]
  },
  {
   "cell_type": "code",
   "execution_count": 50,
   "metadata": {},
   "outputs": [
    {
     "data": {
      "text/plain": [
       "64"
      ]
     },
     "execution_count": 50,
     "metadata": {},
     "output_type": "execute_result"
    }
   ],
   "source": [
    "# bit_options = [8,6,4,2]\n",
    "bit_options = [4,2]\n",
    "vit_model_parts = ['self_attn', 'fc']\n",
    "\n",
    "bit_widths = [bit_options for _ in range(len(vit_model_parts))] \n",
    "vit_bits = list(itertools.product(*bit_widths))\n",
    "\n",
    "qformer_model_parts = ['self_attn', 'txt_ff', 'img_ff', 'cross_attn']\n",
    "bit_widths = [bit_options for _ in range(len(qformer_model_parts))]\n",
    "qformer_bits = list(itertools.product(*bit_widths))\n",
    "\n",
    "all_bits = list(itertools.product(*[vit_bits, qformer_bits]))\n",
    "len(all_bits)"
   ]
  },
  {
   "cell_type": "code",
   "execution_count": 55,
   "metadata": {},
   "outputs": [
    {
     "name": "stdout",
     "output_type": "stream",
     "text": [
      "{'vit_layers': {'self_attn': 4, 'self_attn_output': 4, 'fc1': 4, 'fc2': 4}, 'qformer_layers': {'self_attn': 4, 'self_attn_output': 4, 'intermediate_txt': 4, 'output_txt': 4, 'intermediate_query': 4, 'output_query': 4, 'cross_attn': 4, 'cross_attn_output': 4}}\n",
      "{'vit_layers': {'self_attn': 4, 'self_attn_output': 4, 'fc1': 4, 'fc2': 4}, 'qformer_layers': {'self_attn': 4, 'self_attn_output': 4, 'intermediate_txt': 4, 'output_txt': 4, 'intermediate_query': 4, 'output_query': 4, 'cross_attn': 2, 'cross_attn_output': 2}}\n",
      "{'vit_layers': {'self_attn': 4, 'self_attn_output': 4, 'fc1': 4, 'fc2': 4}, 'qformer_layers': {'self_attn': 4, 'self_attn_output': 4, 'intermediate_txt': 4, 'output_txt': 4, 'intermediate_query': 2, 'output_query': 2, 'cross_attn': 4, 'cross_attn_output': 4}}\n",
      "{'vit_layers': {'self_attn': 4, 'self_attn_output': 4, 'fc1': 4, 'fc2': 4}, 'qformer_layers': {'self_attn': 4, 'self_attn_output': 4, 'intermediate_txt': 4, 'output_txt': 4, 'intermediate_query': 2, 'output_query': 2, 'cross_attn': 2, 'cross_attn_output': 2}}\n",
      "{'vit_layers': {'self_attn': 4, 'self_attn_output': 4, 'fc1': 4, 'fc2': 4}, 'qformer_layers': {'self_attn': 4, 'self_attn_output': 4, 'intermediate_txt': 2, 'output_txt': 2, 'intermediate_query': 4, 'output_query': 4, 'cross_attn': 4, 'cross_attn_output': 4}}\n",
      "{'vit_layers': {'self_attn': 4, 'self_attn_output': 4, 'fc1': 4, 'fc2': 4}, 'qformer_layers': {'self_attn': 4, 'self_attn_output': 4, 'intermediate_txt': 2, 'output_txt': 2, 'intermediate_query': 4, 'output_query': 4, 'cross_attn': 2, 'cross_attn_output': 2}}\n",
      "{'vit_layers': {'self_attn': 4, 'self_attn_output': 4, 'fc1': 4, 'fc2': 4}, 'qformer_layers': {'self_attn': 4, 'self_attn_output': 4, 'intermediate_txt': 2, 'output_txt': 2, 'intermediate_query': 2, 'output_query': 2, 'cross_attn': 4, 'cross_attn_output': 4}}\n",
      "{'vit_layers': {'self_attn': 4, 'self_attn_output': 4, 'fc1': 4, 'fc2': 4}, 'qformer_layers': {'self_attn': 4, 'self_attn_output': 4, 'intermediate_txt': 2, 'output_txt': 2, 'intermediate_query': 2, 'output_query': 2, 'cross_attn': 2, 'cross_attn_output': 2}}\n",
      "{'vit_layers': {'self_attn': 4, 'self_attn_output': 4, 'fc1': 4, 'fc2': 4}, 'qformer_layers': {'self_attn': 2, 'self_attn_output': 2, 'intermediate_txt': 4, 'output_txt': 4, 'intermediate_query': 4, 'output_query': 4, 'cross_attn': 4, 'cross_attn_output': 4}}\n",
      "{'vit_layers': {'self_attn': 4, 'self_attn_output': 4, 'fc1': 4, 'fc2': 4}, 'qformer_layers': {'self_attn': 2, 'self_attn_output': 2, 'intermediate_txt': 4, 'output_txt': 4, 'intermediate_query': 4, 'output_query': 4, 'cross_attn': 2, 'cross_attn_output': 2}}\n",
      "{'vit_layers': {'self_attn': 4, 'self_attn_output': 4, 'fc1': 4, 'fc2': 4}, 'qformer_layers': {'self_attn': 2, 'self_attn_output': 2, 'intermediate_txt': 4, 'output_txt': 4, 'intermediate_query': 2, 'output_query': 2, 'cross_attn': 4, 'cross_attn_output': 4}}\n",
      "{'vit_layers': {'self_attn': 4, 'self_attn_output': 4, 'fc1': 4, 'fc2': 4}, 'qformer_layers': {'self_attn': 2, 'self_attn_output': 2, 'intermediate_txt': 4, 'output_txt': 4, 'intermediate_query': 2, 'output_query': 2, 'cross_attn': 2, 'cross_attn_output': 2}}\n",
      "{'vit_layers': {'self_attn': 4, 'self_attn_output': 4, 'fc1': 4, 'fc2': 4}, 'qformer_layers': {'self_attn': 2, 'self_attn_output': 2, 'intermediate_txt': 2, 'output_txt': 2, 'intermediate_query': 4, 'output_query': 4, 'cross_attn': 4, 'cross_attn_output': 4}}\n",
      "{'vit_layers': {'self_attn': 4, 'self_attn_output': 4, 'fc1': 4, 'fc2': 4}, 'qformer_layers': {'self_attn': 2, 'self_attn_output': 2, 'intermediate_txt': 2, 'output_txt': 2, 'intermediate_query': 4, 'output_query': 4, 'cross_attn': 2, 'cross_attn_output': 2}}\n",
      "{'vit_layers': {'self_attn': 4, 'self_attn_output': 4, 'fc1': 4, 'fc2': 4}, 'qformer_layers': {'self_attn': 2, 'self_attn_output': 2, 'intermediate_txt': 2, 'output_txt': 2, 'intermediate_query': 2, 'output_query': 2, 'cross_attn': 4, 'cross_attn_output': 4}}\n",
      "{'vit_layers': {'self_attn': 4, 'self_attn_output': 4, 'fc1': 4, 'fc2': 4}, 'qformer_layers': {'self_attn': 2, 'self_attn_output': 2, 'intermediate_txt': 2, 'output_txt': 2, 'intermediate_query': 2, 'output_query': 2, 'cross_attn': 2, 'cross_attn_output': 2}}\n",
      "{'vit_layers': {'self_attn': 4, 'self_attn_output': 4, 'fc1': 2, 'fc2': 2}, 'qformer_layers': {'self_attn': 4, 'self_attn_output': 4, 'intermediate_txt': 4, 'output_txt': 4, 'intermediate_query': 4, 'output_query': 4, 'cross_attn': 4, 'cross_attn_output': 4}}\n",
      "{'vit_layers': {'self_attn': 4, 'self_attn_output': 4, 'fc1': 2, 'fc2': 2}, 'qformer_layers': {'self_attn': 4, 'self_attn_output': 4, 'intermediate_txt': 4, 'output_txt': 4, 'intermediate_query': 4, 'output_query': 4, 'cross_attn': 2, 'cross_attn_output': 2}}\n",
      "{'vit_layers': {'self_attn': 4, 'self_attn_output': 4, 'fc1': 2, 'fc2': 2}, 'qformer_layers': {'self_attn': 4, 'self_attn_output': 4, 'intermediate_txt': 4, 'output_txt': 4, 'intermediate_query': 2, 'output_query': 2, 'cross_attn': 4, 'cross_attn_output': 4}}\n",
      "{'vit_layers': {'self_attn': 4, 'self_attn_output': 4, 'fc1': 2, 'fc2': 2}, 'qformer_layers': {'self_attn': 4, 'self_attn_output': 4, 'intermediate_txt': 4, 'output_txt': 4, 'intermediate_query': 2, 'output_query': 2, 'cross_attn': 2, 'cross_attn_output': 2}}\n",
      "{'vit_layers': {'self_attn': 4, 'self_attn_output': 4, 'fc1': 2, 'fc2': 2}, 'qformer_layers': {'self_attn': 4, 'self_attn_output': 4, 'intermediate_txt': 2, 'output_txt': 2, 'intermediate_query': 4, 'output_query': 4, 'cross_attn': 4, 'cross_attn_output': 4}}\n",
      "{'vit_layers': {'self_attn': 4, 'self_attn_output': 4, 'fc1': 2, 'fc2': 2}, 'qformer_layers': {'self_attn': 4, 'self_attn_output': 4, 'intermediate_txt': 2, 'output_txt': 2, 'intermediate_query': 4, 'output_query': 4, 'cross_attn': 2, 'cross_attn_output': 2}}\n",
      "{'vit_layers': {'self_attn': 4, 'self_attn_output': 4, 'fc1': 2, 'fc2': 2}, 'qformer_layers': {'self_attn': 4, 'self_attn_output': 4, 'intermediate_txt': 2, 'output_txt': 2, 'intermediate_query': 2, 'output_query': 2, 'cross_attn': 4, 'cross_attn_output': 4}}\n",
      "{'vit_layers': {'self_attn': 4, 'self_attn_output': 4, 'fc1': 2, 'fc2': 2}, 'qformer_layers': {'self_attn': 4, 'self_attn_output': 4, 'intermediate_txt': 2, 'output_txt': 2, 'intermediate_query': 2, 'output_query': 2, 'cross_attn': 2, 'cross_attn_output': 2}}\n",
      "{'vit_layers': {'self_attn': 4, 'self_attn_output': 4, 'fc1': 2, 'fc2': 2}, 'qformer_layers': {'self_attn': 2, 'self_attn_output': 2, 'intermediate_txt': 4, 'output_txt': 4, 'intermediate_query': 4, 'output_query': 4, 'cross_attn': 4, 'cross_attn_output': 4}}\n",
      "{'vit_layers': {'self_attn': 4, 'self_attn_output': 4, 'fc1': 2, 'fc2': 2}, 'qformer_layers': {'self_attn': 2, 'self_attn_output': 2, 'intermediate_txt': 4, 'output_txt': 4, 'intermediate_query': 4, 'output_query': 4, 'cross_attn': 2, 'cross_attn_output': 2}}\n",
      "{'vit_layers': {'self_attn': 4, 'self_attn_output': 4, 'fc1': 2, 'fc2': 2}, 'qformer_layers': {'self_attn': 2, 'self_attn_output': 2, 'intermediate_txt': 4, 'output_txt': 4, 'intermediate_query': 2, 'output_query': 2, 'cross_attn': 4, 'cross_attn_output': 4}}\n",
      "{'vit_layers': {'self_attn': 4, 'self_attn_output': 4, 'fc1': 2, 'fc2': 2}, 'qformer_layers': {'self_attn': 2, 'self_attn_output': 2, 'intermediate_txt': 4, 'output_txt': 4, 'intermediate_query': 2, 'output_query': 2, 'cross_attn': 2, 'cross_attn_output': 2}}\n",
      "{'vit_layers': {'self_attn': 4, 'self_attn_output': 4, 'fc1': 2, 'fc2': 2}, 'qformer_layers': {'self_attn': 2, 'self_attn_output': 2, 'intermediate_txt': 2, 'output_txt': 2, 'intermediate_query': 4, 'output_query': 4, 'cross_attn': 4, 'cross_attn_output': 4}}\n",
      "{'vit_layers': {'self_attn': 4, 'self_attn_output': 4, 'fc1': 2, 'fc2': 2}, 'qformer_layers': {'self_attn': 2, 'self_attn_output': 2, 'intermediate_txt': 2, 'output_txt': 2, 'intermediate_query': 4, 'output_query': 4, 'cross_attn': 2, 'cross_attn_output': 2}}\n",
      "{'vit_layers': {'self_attn': 4, 'self_attn_output': 4, 'fc1': 2, 'fc2': 2}, 'qformer_layers': {'self_attn': 2, 'self_attn_output': 2, 'intermediate_txt': 2, 'output_txt': 2, 'intermediate_query': 2, 'output_query': 2, 'cross_attn': 4, 'cross_attn_output': 4}}\n",
      "{'vit_layers': {'self_attn': 4, 'self_attn_output': 4, 'fc1': 2, 'fc2': 2}, 'qformer_layers': {'self_attn': 2, 'self_attn_output': 2, 'intermediate_txt': 2, 'output_txt': 2, 'intermediate_query': 2, 'output_query': 2, 'cross_attn': 2, 'cross_attn_output': 2}}\n",
      "{'vit_layers': {'self_attn': 2, 'self_attn_output': 2, 'fc1': 4, 'fc2': 4}, 'qformer_layers': {'self_attn': 4, 'self_attn_output': 4, 'intermediate_txt': 4, 'output_txt': 4, 'intermediate_query': 4, 'output_query': 4, 'cross_attn': 4, 'cross_attn_output': 4}}\n",
      "{'vit_layers': {'self_attn': 2, 'self_attn_output': 2, 'fc1': 4, 'fc2': 4}, 'qformer_layers': {'self_attn': 4, 'self_attn_output': 4, 'intermediate_txt': 4, 'output_txt': 4, 'intermediate_query': 4, 'output_query': 4, 'cross_attn': 2, 'cross_attn_output': 2}}\n",
      "{'vit_layers': {'self_attn': 2, 'self_attn_output': 2, 'fc1': 4, 'fc2': 4}, 'qformer_layers': {'self_attn': 4, 'self_attn_output': 4, 'intermediate_txt': 4, 'output_txt': 4, 'intermediate_query': 2, 'output_query': 2, 'cross_attn': 4, 'cross_attn_output': 4}}\n",
      "{'vit_layers': {'self_attn': 2, 'self_attn_output': 2, 'fc1': 4, 'fc2': 4}, 'qformer_layers': {'self_attn': 4, 'self_attn_output': 4, 'intermediate_txt': 4, 'output_txt': 4, 'intermediate_query': 2, 'output_query': 2, 'cross_attn': 2, 'cross_attn_output': 2}}\n",
      "{'vit_layers': {'self_attn': 2, 'self_attn_output': 2, 'fc1': 4, 'fc2': 4}, 'qformer_layers': {'self_attn': 4, 'self_attn_output': 4, 'intermediate_txt': 2, 'output_txt': 2, 'intermediate_query': 4, 'output_query': 4, 'cross_attn': 4, 'cross_attn_output': 4}}\n",
      "{'vit_layers': {'self_attn': 2, 'self_attn_output': 2, 'fc1': 4, 'fc2': 4}, 'qformer_layers': {'self_attn': 4, 'self_attn_output': 4, 'intermediate_txt': 2, 'output_txt': 2, 'intermediate_query': 4, 'output_query': 4, 'cross_attn': 2, 'cross_attn_output': 2}}\n",
      "{'vit_layers': {'self_attn': 2, 'self_attn_output': 2, 'fc1': 4, 'fc2': 4}, 'qformer_layers': {'self_attn': 4, 'self_attn_output': 4, 'intermediate_txt': 2, 'output_txt': 2, 'intermediate_query': 2, 'output_query': 2, 'cross_attn': 4, 'cross_attn_output': 4}}\n",
      "{'vit_layers': {'self_attn': 2, 'self_attn_output': 2, 'fc1': 4, 'fc2': 4}, 'qformer_layers': {'self_attn': 4, 'self_attn_output': 4, 'intermediate_txt': 2, 'output_txt': 2, 'intermediate_query': 2, 'output_query': 2, 'cross_attn': 2, 'cross_attn_output': 2}}\n",
      "{'vit_layers': {'self_attn': 2, 'self_attn_output': 2, 'fc1': 4, 'fc2': 4}, 'qformer_layers': {'self_attn': 2, 'self_attn_output': 2, 'intermediate_txt': 4, 'output_txt': 4, 'intermediate_query': 4, 'output_query': 4, 'cross_attn': 4, 'cross_attn_output': 4}}\n",
      "{'vit_layers': {'self_attn': 2, 'self_attn_output': 2, 'fc1': 4, 'fc2': 4}, 'qformer_layers': {'self_attn': 2, 'self_attn_output': 2, 'intermediate_txt': 4, 'output_txt': 4, 'intermediate_query': 4, 'output_query': 4, 'cross_attn': 2, 'cross_attn_output': 2}}\n",
      "{'vit_layers': {'self_attn': 2, 'self_attn_output': 2, 'fc1': 4, 'fc2': 4}, 'qformer_layers': {'self_attn': 2, 'self_attn_output': 2, 'intermediate_txt': 4, 'output_txt': 4, 'intermediate_query': 2, 'output_query': 2, 'cross_attn': 4, 'cross_attn_output': 4}}\n",
      "{'vit_layers': {'self_attn': 2, 'self_attn_output': 2, 'fc1': 4, 'fc2': 4}, 'qformer_layers': {'self_attn': 2, 'self_attn_output': 2, 'intermediate_txt': 4, 'output_txt': 4, 'intermediate_query': 2, 'output_query': 2, 'cross_attn': 2, 'cross_attn_output': 2}}\n",
      "{'vit_layers': {'self_attn': 2, 'self_attn_output': 2, 'fc1': 4, 'fc2': 4}, 'qformer_layers': {'self_attn': 2, 'self_attn_output': 2, 'intermediate_txt': 2, 'output_txt': 2, 'intermediate_query': 4, 'output_query': 4, 'cross_attn': 4, 'cross_attn_output': 4}}\n",
      "{'vit_layers': {'self_attn': 2, 'self_attn_output': 2, 'fc1': 4, 'fc2': 4}, 'qformer_layers': {'self_attn': 2, 'self_attn_output': 2, 'intermediate_txt': 2, 'output_txt': 2, 'intermediate_query': 4, 'output_query': 4, 'cross_attn': 2, 'cross_attn_output': 2}}\n",
      "{'vit_layers': {'self_attn': 2, 'self_attn_output': 2, 'fc1': 4, 'fc2': 4}, 'qformer_layers': {'self_attn': 2, 'self_attn_output': 2, 'intermediate_txt': 2, 'output_txt': 2, 'intermediate_query': 2, 'output_query': 2, 'cross_attn': 4, 'cross_attn_output': 4}}\n",
      "{'vit_layers': {'self_attn': 2, 'self_attn_output': 2, 'fc1': 4, 'fc2': 4}, 'qformer_layers': {'self_attn': 2, 'self_attn_output': 2, 'intermediate_txt': 2, 'output_txt': 2, 'intermediate_query': 2, 'output_query': 2, 'cross_attn': 2, 'cross_attn_output': 2}}\n",
      "{'vit_layers': {'self_attn': 2, 'self_attn_output': 2, 'fc1': 2, 'fc2': 2}, 'qformer_layers': {'self_attn': 4, 'self_attn_output': 4, 'intermediate_txt': 4, 'output_txt': 4, 'intermediate_query': 4, 'output_query': 4, 'cross_attn': 4, 'cross_attn_output': 4}}\n",
      "{'vit_layers': {'self_attn': 2, 'self_attn_output': 2, 'fc1': 2, 'fc2': 2}, 'qformer_layers': {'self_attn': 4, 'self_attn_output': 4, 'intermediate_txt': 4, 'output_txt': 4, 'intermediate_query': 4, 'output_query': 4, 'cross_attn': 2, 'cross_attn_output': 2}}\n",
      "{'vit_layers': {'self_attn': 2, 'self_attn_output': 2, 'fc1': 2, 'fc2': 2}, 'qformer_layers': {'self_attn': 4, 'self_attn_output': 4, 'intermediate_txt': 4, 'output_txt': 4, 'intermediate_query': 2, 'output_query': 2, 'cross_attn': 4, 'cross_attn_output': 4}}\n",
      "{'vit_layers': {'self_attn': 2, 'self_attn_output': 2, 'fc1': 2, 'fc2': 2}, 'qformer_layers': {'self_attn': 4, 'self_attn_output': 4, 'intermediate_txt': 4, 'output_txt': 4, 'intermediate_query': 2, 'output_query': 2, 'cross_attn': 2, 'cross_attn_output': 2}}\n",
      "{'vit_layers': {'self_attn': 2, 'self_attn_output': 2, 'fc1': 2, 'fc2': 2}, 'qformer_layers': {'self_attn': 4, 'self_attn_output': 4, 'intermediate_txt': 2, 'output_txt': 2, 'intermediate_query': 4, 'output_query': 4, 'cross_attn': 4, 'cross_attn_output': 4}}\n",
      "{'vit_layers': {'self_attn': 2, 'self_attn_output': 2, 'fc1': 2, 'fc2': 2}, 'qformer_layers': {'self_attn': 4, 'self_attn_output': 4, 'intermediate_txt': 2, 'output_txt': 2, 'intermediate_query': 4, 'output_query': 4, 'cross_attn': 2, 'cross_attn_output': 2}}\n",
      "{'vit_layers': {'self_attn': 2, 'self_attn_output': 2, 'fc1': 2, 'fc2': 2}, 'qformer_layers': {'self_attn': 4, 'self_attn_output': 4, 'intermediate_txt': 2, 'output_txt': 2, 'intermediate_query': 2, 'output_query': 2, 'cross_attn': 4, 'cross_attn_output': 4}}\n",
      "{'vit_layers': {'self_attn': 2, 'self_attn_output': 2, 'fc1': 2, 'fc2': 2}, 'qformer_layers': {'self_attn': 4, 'self_attn_output': 4, 'intermediate_txt': 2, 'output_txt': 2, 'intermediate_query': 2, 'output_query': 2, 'cross_attn': 2, 'cross_attn_output': 2}}\n",
      "{'vit_layers': {'self_attn': 2, 'self_attn_output': 2, 'fc1': 2, 'fc2': 2}, 'qformer_layers': {'self_attn': 2, 'self_attn_output': 2, 'intermediate_txt': 4, 'output_txt': 4, 'intermediate_query': 4, 'output_query': 4, 'cross_attn': 4, 'cross_attn_output': 4}}\n",
      "{'vit_layers': {'self_attn': 2, 'self_attn_output': 2, 'fc1': 2, 'fc2': 2}, 'qformer_layers': {'self_attn': 2, 'self_attn_output': 2, 'intermediate_txt': 4, 'output_txt': 4, 'intermediate_query': 4, 'output_query': 4, 'cross_attn': 2, 'cross_attn_output': 2}}\n",
      "{'vit_layers': {'self_attn': 2, 'self_attn_output': 2, 'fc1': 2, 'fc2': 2}, 'qformer_layers': {'self_attn': 2, 'self_attn_output': 2, 'intermediate_txt': 4, 'output_txt': 4, 'intermediate_query': 2, 'output_query': 2, 'cross_attn': 4, 'cross_attn_output': 4}}\n",
      "{'vit_layers': {'self_attn': 2, 'self_attn_output': 2, 'fc1': 2, 'fc2': 2}, 'qformer_layers': {'self_attn': 2, 'self_attn_output': 2, 'intermediate_txt': 4, 'output_txt': 4, 'intermediate_query': 2, 'output_query': 2, 'cross_attn': 2, 'cross_attn_output': 2}}\n",
      "{'vit_layers': {'self_attn': 2, 'self_attn_output': 2, 'fc1': 2, 'fc2': 2}, 'qformer_layers': {'self_attn': 2, 'self_attn_output': 2, 'intermediate_txt': 2, 'output_txt': 2, 'intermediate_query': 4, 'output_query': 4, 'cross_attn': 4, 'cross_attn_output': 4}}\n",
      "{'vit_layers': {'self_attn': 2, 'self_attn_output': 2, 'fc1': 2, 'fc2': 2}, 'qformer_layers': {'self_attn': 2, 'self_attn_output': 2, 'intermediate_txt': 2, 'output_txt': 2, 'intermediate_query': 4, 'output_query': 4, 'cross_attn': 2, 'cross_attn_output': 2}}\n",
      "{'vit_layers': {'self_attn': 2, 'self_attn_output': 2, 'fc1': 2, 'fc2': 2}, 'qformer_layers': {'self_attn': 2, 'self_attn_output': 2, 'intermediate_txt': 2, 'output_txt': 2, 'intermediate_query': 2, 'output_query': 2, 'cross_attn': 4, 'cross_attn_output': 4}}\n",
      "{'vit_layers': {'self_attn': 2, 'self_attn_output': 2, 'fc1': 2, 'fc2': 2}, 'qformer_layers': {'self_attn': 2, 'self_attn_output': 2, 'intermediate_txt': 2, 'output_txt': 2, 'intermediate_query': 2, 'output_query': 2, 'cross_attn': 2, 'cross_attn_output': 2}}\n"
     ]
    }
   ],
   "source": [
    "for i,bits in enumerate(all_bits):\n",
    "\n",
    "    json_config = {}\n",
    "    json_config['vit_layers'] = {}\n",
    "    json_config['qformer_layers'] = {}\n",
    "\n",
    "    vit_bits, qformer_bits = bits\n",
    "\n",
    "    # ['self_attn', 'fc']\n",
    "    for vit_model_part, bit_width in zip(vit_model_parts, vit_bits):\n",
    "        modules = model_part2modules[vit_model_part]\n",
    "        for mod in modules:\n",
    "            json_config['vit_layers'][mod] = bit_width\n",
    "\n",
    "\n",
    "    # ['self_attn', 'text_ff', 'img_ff', 'cross_attn']\n",
    "    for qformer_model_part, bit_width in zip(qformer_model_parts, qformer_bits):\n",
    "        modules = model_part2modules[qformer_model_part]\n",
    "        for mod in modules:\n",
    "            json_config['qformer_layers'][mod] = bit_width\n",
    "        \n",
    "    filename = os.path.join(dir_name, f'awq_{i}')\n",
    "    with open(filename, 'w') as f:\n",
    "        json.dump(json_config, f, indent=2)\n",
    "\n"
   ]
  },
  {
   "cell_type": "code",
   "execution_count": 38,
   "metadata": {},
   "outputs": [
    {
     "data": {
      "text/plain": [
       "64"
      ]
     },
     "execution_count": 38,
     "metadata": {},
     "output_type": "execute_result"
    }
   ],
   "source": [
    "len(all_configs)"
   ]
  },
  {
   "cell_type": "code",
   "execution_count": 57,
   "metadata": {},
   "outputs": [],
   "source": [
    "test_config = json.load(open('/nfshomes/vla/low_bit_vision/mmq/awq/retrieval_configs/awq_58'))"
   ]
  },
  {
   "cell_type": "code",
   "execution_count": 58,
   "metadata": {},
   "outputs": [
    {
     "data": {
      "text/plain": [
       "{'vit_layers': {'self_attn': 2, 'self_attn_output': 2, 'fc1': 2, 'fc2': 2},\n",
       " 'qformer_layers': {'self_attn': 2,\n",
       "  'self_attn_output': 2,\n",
       "  'intermediate_txt': 4,\n",
       "  'output_txt': 4,\n",
       "  'intermediate_query': 2,\n",
       "  'output_query': 2,\n",
       "  'cross_attn': 4,\n",
       "  'cross_attn_output': 4}}"
      ]
     },
     "execution_count": 58,
     "metadata": {},
     "output_type": "execute_result"
    }
   ],
   "source": [
    "test_config"
   ]
  },
  {
   "cell_type": "markdown",
   "metadata": {},
   "source": [
    "#### Caption Generation Configs"
   ]
  },
  {
   "cell_type": "code",
   "execution_count": 4,
   "metadata": {},
   "outputs": [],
   "source": [
    "dir_name = 'captioning_configs'\n",
    "os.makedirs(f\"./{dir_name}\", exist_ok=True)"
   ]
  },
  {
   "cell_type": "code",
   "execution_count": 6,
   "metadata": {},
   "outputs": [
    {
     "data": {
      "text/plain": [
       "128"
      ]
     },
     "execution_count": 6,
     "metadata": {},
     "output_type": "execute_result"
    }
   ],
   "source": [
    "# bit_options = [8,6,4,2]\n",
    "bit_options = [4,2]\n",
    "\n",
    "vit_model_parts = ['self_attn', 'fc']\n",
    "bit_widths = [bit_options for _ in range(len(vit_model_parts))] \n",
    "vit_bits = list(itertools.product(*bit_widths))\n",
    "\n",
    "qformer_model_parts = ['self_attn', 'img_ff', 'cross_attn']\n",
    "bit_widths = [bit_options for _ in range(len(qformer_model_parts))]\n",
    "qformer_bits = list(itertools.product(*bit_widths))\n",
    "\n",
    "llm_model_parts = ['self_attn', 'fc']\n",
    "bit_widths = [bit_options for _ in range(len(llm_model_parts))]\n",
    "llm_bits = list(itertools.product(*bit_widths))\n",
    "\n",
    "\n",
    "all_bits = list(itertools.product(*[vit_bits, qformer_bits, llm_bits]))\n",
    "len(all_bits)"
   ]
  },
  {
   "cell_type": "code",
   "execution_count": 13,
   "metadata": {},
   "outputs": [],
   "source": [
    "for i,bits in enumerate(all_bits):\n",
    "\n",
    "    json_config = {}\n",
    "    json_config['vit_layers'] = {}\n",
    "    json_config['qformer_layers'] = {}\n",
    "    json_config['llm_layers'] = {}\n",
    "\n",
    "    vit_bits, qformer_bits, llm_bits = bits\n",
    "\n",
    "    # ['self_attn', 'fc']\n",
    "    for vit_model_part, bit_width in zip(vit_model_parts, vit_bits):\n",
    "        modules = model_part2modules[vit_model_part]\n",
    "        for mod in modules:\n",
    "            json_config['vit_layers'][mod] = bit_width\n",
    "\n",
    "\n",
    "    # ['self_attn', 'text_ff', 'img_ff', 'cross_attn']\n",
    "    for qformer_model_part, bit_width in zip(qformer_model_parts, qformer_bits):\n",
    "        modules = model_part2modules[qformer_model_part]\n",
    "        for mod in modules:\n",
    "            json_config['qformer_layers'][mod] = bit_width\n",
    "\n",
    "    # ['self_attn', 'fc']\n",
    "    for llm_model_part, bit_width in zip(llm_model_parts, llm_bits):\n",
    "        modules = model_part2modules[llm_model_part]\n",
    "        for mod in modules:\n",
    "            json_config['llm_layers'][mod] = bit_width\n",
    "        \n",
    "    filename = os.path.join(dir_name, f'awq_{i}')\n",
    "    with open(filename, 'w') as f:\n",
    "        json.dump(json_config, f, indent=2)\n",
    "\n"
   ]
  },
  {
   "cell_type": "code",
   "execution_count": 14,
   "metadata": {},
   "outputs": [],
   "source": [
    "test_config = json.load(open('/nfshomes/vla/low_bit_vision/mmq/awq/captioning_configs/awq_55'))"
   ]
  },
  {
   "cell_type": "code",
   "execution_count": 15,
   "metadata": {},
   "outputs": [
    {
     "data": {
      "text/plain": [
       "{'vit_layers': {'self_attn': 4, 'self_attn_output': 4, 'fc1': 2, 'fc2': 2},\n",
       " 'qformer_layers': {'self_attn': 2,\n",
       "  'self_attn_output': 2,\n",
       "  'intermediate_query': 4,\n",
       "  'output_query': 4,\n",
       "  'cross_attn': 2,\n",
       "  'cross_attn_output': 2},\n",
       " 'llm_layers': {'self_attn': 2, 'self_attn_output': 2, 'fc1': 2, 'fc2': 2}}"
      ]
     },
     "execution_count": 15,
     "metadata": {},
     "output_type": "execute_result"
    }
   ],
   "source": [
    "test_config"
   ]
  }
 ],
 "metadata": {
  "kernelspec": {
   "display_name": "Python 3",
   "language": "python",
   "name": "python3"
  },
  "language_info": {
   "codemirror_mode": {
    "name": "ipython",
    "version": 3
   },
   "file_extension": ".py",
   "mimetype": "text/x-python",
   "name": "python",
   "nbconvert_exporter": "python",
   "pygments_lexer": "ipython3",
   "version": "3.10.14"
  }
 },
 "nbformat": 4,
 "nbformat_minor": 2
}
